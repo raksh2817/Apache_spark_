{
 "cells": [
  {
   "cell_type": "code",
   "execution_count": null,
   "metadata": {},
   "outputs": [],
   "source": []
  },
  {
   "cell_type": "code",
   "execution_count": null,
   "metadata": {},
   "outputs": [
    {
     "name": "stderr",
     "output_type": "stream",
     "text": [
      "<>:24: SyntaxWarning: invalid escape sequence '\\P'\n",
      "<>:24: SyntaxWarning: invalid escape sequence '\\P'\n",
      "C:\\Users\\raksh\\AppData\\Local\\Temp\\ipykernel_24332\\49237502.py:24: SyntaxWarning: invalid escape sequence '\\P'\n",
      "  extract_dir = 'D:\\Project\\Spark_project/'\n"
     ]
    },
    {
     "name": "stdout",
     "output_type": "stream",
     "text": [
      "Spark session created with the following configuration:\n",
      "Executor Instances: 4\n",
      "Executor Memory: 4g\n",
      "Executor Cores: 2\n"
     ]
    }
   ],
   "source": [
    "from pyspark.sql import SparkSession\n",
    "import os\n",
    "from pyspark.sql.types import (\n",
    "    StructType, StructField, StringType, IntegerType,\n",
    "    FloatType, ArrayType, TimestampType\n",
    ")\n",
    "\n",
    "# For a cluster environment, replace \"local[*]\" with your cluster's master URL (e.g., \"yarn\")\n",
    "spark = SparkSession.builder \\\n",
    "    .appName(\"LoadExtractedData\") \\\n",
    "    .master(\"local[*]\") \\\n",
    "    .config(\"spark.executor.instances\", \"4\") \\\n",
    "    .config(\"spark.executor.memory\", \"4g\") \\\n",
    "    .config(\"spark.executor.cores\", \"2\") \\\n",
    "    .getOrCreate()\n",
    "\n",
    "print(\"Spark session created with the following configuration:\")\n",
    "print(\"Executor Instances: 4\")\n",
    "print(\"Executor Memory: 4g\")\n",
    "print(\"Executor Cores: 2\")\n",
    "\n",
    "#data_path = extract_dir/[\"adsblog_ny0.txt.2025021200\",\"adsblog_ny0.txt.2025021100\",'adsblog_ny0.txt.2025021300','adsblog_ny0.txt.2025021000','adsblog_ny0.txt.2025020900','adsblog_ny0.txt.2025020800','adsblog_ny0.txt.2025020700','adsblog_ny0.txt.2025020600','adsblog_ny0.txt.2025020500','adsblog_ny0.txt.2025020400','adsblog_ny0.txt.2025020300','adsblog_ny0.txt.2025020200','adsblog_ny0.txt.2025020100','adsblog_ny0.txt.2025013100']\n",
    "\n",
    "extract_dir = 'D:\\Project\\Spark_project/'\n",
    "\n",
    "data_path = ['adsblog_ny0.txt.2025021200','adsblog_ny0.txt.2025021100','adsblog_ny0.txt.2025021000','adsblog_ny0.txt.2025020800','adsblog_ny0.txt.2025020700','adsblog_ny0.txt.2025020600','adsblog_ny0.txt.2025020500','adsblog_ny0.txt.2025020400','adsblog_ny0.txt.2025020300','adsblog_ny0.txt.2025020200','adsblog_ny0.txt.2025020100']\n",
    "df = spark.read.json(data_path)                   \n",
    "\n",
    "\n",
    "\n"
   ]
  },
  {
   "cell_type": "code",
   "execution_count": 2,
   "metadata": {},
   "outputs": [
    {
     "data": {
      "text/plain": [
       "3305500"
      ]
     },
     "execution_count": 2,
     "metadata": {},
     "output_type": "execute_result"
    }
   ],
   "source": [
    "df.count()"
   ]
  },
  {
   "cell_type": "code",
   "execution_count": 3,
   "metadata": {},
   "outputs": [
    {
     "name": "stdout",
     "output_type": "stream",
     "text": [
      "+--------------------+--------------------+--------+\n",
      "|                  dt|             payload|    type|\n",
      "+--------------------+--------------------+--------+\n",
      "|2025-02-12 00:00:...|{33425, 32325, 96...|new_adsb|\n",
      "|2025-02-12 00:00:...|{28050, 27350, -1...|new_adsb|\n",
      "|2025-02-12 00:00:...|{28050, 27350, -1...|new_adsb|\n",
      "|2025-02-12 00:00:...|{39000, 37825, -3...|new_adsb|\n",
      "|2025-02-12 00:00:...|{28050, 27350, -1...|new_adsb|\n",
      "|2025-02-12 00:00:...|{28050, 27350, -1...|new_adsb|\n",
      "|2025-02-12 00:00:...|{37000, 35825, 0,...|new_adsb|\n",
      "|2025-02-12 00:00:...|{33500, 32325, 96...|new_adsb|\n",
      "|2025-02-12 00:00:...|{28050, 27325, -1...|new_adsb|\n",
      "|2025-02-12 00:00:...|{39000, 37825, -3...|new_adsb|\n",
      "|2025-02-12 00:00:...|{33500, 32400, 10...|new_adsb|\n",
      "|2025-02-12 00:00:...|{28050, 27325, -1...|new_adsb|\n",
      "|2025-02-12 00:00:...|{38975, 37800, -3...|new_adsb|\n",
      "|2025-02-12 00:00:...|{37000, 35825, 0,...|new_adsb|\n",
      "|2025-02-12 00:00:...|{33525, 32425, 10...|new_adsb|\n",
      "|2025-02-12 00:00:...|{28050, 27325, -1...|new_adsb|\n",
      "|2025-02-12 00:00:...|{28050, 27325, -1...|new_adsb|\n",
      "|2025-02-12 00:00:...|{38975, 37800, -3...|new_adsb|\n",
      "|2025-02-12 00:00:...|{28025, 27325, -1...|new_adsb|\n",
      "|2025-02-12 00:00:...|{33525, 32425, 10...|new_adsb|\n",
      "+--------------------+--------------------+--------+\n",
      "only showing top 20 rows\n",
      "\n"
     ]
    }
   ],
   "source": [
    "df.show()"
   ]
  },
  {
   "cell_type": "code",
   "execution_count": null,
   "metadata": {},
   "outputs": [
    {
     "name": "stdout",
     "output_type": "stream",
     "text": [
      "root\n",
      " |-- Type: string (nullable = true)\n",
      " |-- DT: string (nullable = true)\n",
      " |-- HexID: string (nullable = true)\n",
      " |-- FlightNumber: string (nullable = true)\n",
      " |-- AltBaro: string (nullable = true)\n",
      " |-- AltGeom: long (nullable = true)\n",
      " |-- GroundSpeed: double (nullable = true)\n",
      " |-- Track: double (nullable = true)\n",
      " |-- BaroRate: long (nullable = true)\n",
      " |-- Squawk: string (nullable = true)\n",
      " |-- Emergency: string (nullable = true)\n",
      " |-- Category: string (nullable = true)\n",
      " |-- NavQNH: double (nullable = true)\n",
      " |-- NavAltitudeMCP: long (nullable = true)\n",
      " |-- NavHeading: double (nullable = true)\n",
      " |-- Latitude: double (nullable = true)\n",
      " |-- Longitude: double (nullable = true)\n",
      " |-- NIC: long (nullable = true)\n",
      " |-- RC: long (nullable = true)\n",
      " |-- SeenPos: double (nullable = true)\n",
      " |-- Version: long (nullable = true)\n",
      " |-- NICBaro: long (nullable = true)\n",
      " |-- NAC_P: long (nullable = true)\n",
      " |-- NAC_V: long (nullable = true)\n",
      " |-- SIL: long (nullable = true)\n",
      " |-- SIL_Type: string (nullable = true)\n",
      " |-- GVA: long (nullable = true)\n",
      " |-- SDA: long (nullable = true)\n",
      " |-- MLAT: array (nullable = true)\n",
      " |    |-- element: string (containsNull = true)\n",
      " |-- TISB: array (nullable = true)\n",
      " |    |-- element: string (containsNull = true)\n",
      " |-- Messages: long (nullable = true)\n",
      " |-- Seen: double (nullable = true)\n",
      " |-- RSSI: double (nullable = true)\n",
      "\n",
      "+--------+--------------------------+------+------------+-------+-------+-----------+-----+--------+------+---------+--------+------+--------------+----------+---------+----------+---+---+-------+-------+-------+-----+-----+---+--------+---+---+----+----+--------+----+-----+\n",
      "|Type    |DT                        |HexID |FlightNumber|AltBaro|AltGeom|GroundSpeed|Track|BaroRate|Squawk|Emergency|Category|NavQNH|NavAltitudeMCP|NavHeading|Latitude |Longitude |NIC|RC |SeenPos|Version|NICBaro|NAC_P|NAC_V|SIL|SIL_Type|GVA|SDA|MLAT|TISB|Messages|Seen|RSSI |\n",
      "+--------+--------------------------+------+------------+-------+-------+-----------+-----+--------+------+---------+--------+------+--------------+----------+---------+----------+---+---+-------+-------+-------+-----+-----+---+--------+---+---+----+----+--------+----+-----+\n",
      "|new_adsb|2025-02-12 00:00:00.023480|c0611f|ACA858      |33425  |32325  |596.9      |67.6 |960     |NULL  |NULL     |A5      |1012.8|35008         |NULL      |44.741547|-75.766885|8  |186|0.8    |2      |1      |9    |1    |3  |perhour |2  |3  |[]  |[]  |90      |0.5 |-24.6|\n",
      "|new_adsb|2025-02-12 00:00:00.029517|c078ba|TSC939      |28050  |27350  |480.4      |32.8 |-192    |6174  |none     |A5      |1013.6|28000         |NULL      |44.127937|-75.909184|8  |186|1.3    |2      |1      |9    |1    |3  |perhour |2  |2  |[]  |[]  |1183    |0.1 |-24.2|\n",
      "|new_adsb|2025-02-12 00:00:01.056869|c078ba|TSC939      |28050  |27350  |478.2      |32.8 |-192    |6174  |none     |A5      |1013.6|28000         |NULL      |44.131382|-75.906045|8  |186|0.5    |2      |1      |9    |1    |3  |perhour |2  |2  |[]  |[]  |1190    |0.2 |-23.5|\n",
      "|new_adsb|2025-02-12 00:00:01.057026|48ae07|LOT4        |39000  |37825  |605.7      |70.2 |-32     |1375  |none     |A5      |1012.8|39008         |80.2      |45.350725|-74.108946|8  |186|3.5    |2      |1      |9    |1    |3  |perhour |2  |2  |[]  |[]  |3897    |0.2 |-24.3|\n",
      "|new_adsb|2025-02-12 00:00:02.077593|c078ba|TSC939      |28050  |27350  |477.7      |32.7 |-192    |6174  |none     |A5      |1013.6|28000         |NULL      |44.133151|-75.904476|8  |186|0.6    |2      |1      |9    |1    |3  |perhour |2  |2  |[]  |[]  |1198    |0.2 |-22.0|\n",
      "+--------+--------------------------+------+------------+-------+-------+-----------+-----+--------+------+---------+--------+------+--------------+----------+---------+----------+---+---+-------+-------+-------+-----+-----+---+--------+---+---+----+----+--------+----+-----+\n",
      "only showing top 5 rows\n",
      "\n"
     ]
    }
   ],
   "source": [
    "from pyspark.sql.functions import col, to_date\n",
    "\n",
    "flattened_df = df.select(\n",
    "    col(\"type\").alias(\"Type\"),\n",
    "    col(\"dt\").alias(\"DT\"),\n",
    "    col(\"payload.hex\").alias(\"HexID\"),\n",
    "    col(\"payload.flight\").alias(\"FlightNumber\"),\n",
    "    col(\"payload.alt_baro\").alias(\"AltBaro\"),\n",
    "    col(\"payload.alt_geom\").alias(\"AltGeom\"),\n",
    "    col(\"payload.gs\").alias(\"GroundSpeed\"),\n",
    "    col(\"payload.track\").alias(\"Track\"),\n",
    "    col(\"payload.baro_rate\").alias(\"BaroRate\"),\n",
    "    col(\"payload.squawk\").alias(\"Squawk\"),\n",
    "    col(\"payload.emergency\").alias(\"Emergency\"),\n",
    "    col(\"payload.category\").alias(\"Category\"),\n",
    "    col(\"payload.nav_qnh\").alias(\"NavQNH\"),\n",
    "    col(\"payload.nav_altitude_mcp\").alias(\"NavAltitudeMCP\"),\n",
    "    col(\"payload.nav_heading\").alias(\"NavHeading\"),\n",
    "    col(\"payload.lat\").alias(\"Latitude\"),\n",
    "    col(\"payload.lon\").alias(\"Longitude\"),\n",
    "    col(\"payload.nic\").alias(\"NIC\"),\n",
    "    col(\"payload.rc\").alias(\"RC\"),\n",
    "    col(\"payload.seen_pos\").alias(\"SeenPos\"),\n",
    "    col(\"payload.version\").alias(\"Version\"),\n",
    "    col(\"payload.nic_baro\").alias(\"NICBaro\"),\n",
    "    col(\"payload.nac_p\").alias(\"NAC_P\"),\n",
    "    col(\"payload.nac_v\").alias(\"NAC_V\"),\n",
    "    col(\"payload.sil\").alias(\"SIL\"),\n",
    "    col(\"payload.sil_type\").alias(\"SIL_Type\"),\n",
    "    col(\"payload.gva\").alias(\"GVA\"),\n",
    "    col(\"payload.sda\").alias(\"SDA\"),\n",
    "    col(\"payload.mlat\").alias(\"MLAT\"),\n",
    "    col(\"payload.tisb\").alias(\"TISB\"),\n",
    "    col(\"payload.messages\").alias(\"Messages\"),\n",
    "    col(\"payload.seen\").alias(\"Seen\"),\n",
    "    col(\"payload.rssi\").alias(\"RSSI\")\n",
    ")\n",
    "\n",
    "flattened_df.printSchema()\n",
    "flattened_df.show(5, truncate=False)\n",
    "\n",
    "\n"
   ]
  },
  {
   "cell_type": "code",
   "execution_count": 5,
   "metadata": {},
   "outputs": [
    {
     "name": "stdout",
     "output_type": "stream",
     "text": [
      "+--------+--------------------+------+------------+-------+-------+-----------+-----+--------+------+---------+--------+------+--------------+----------+---------+----------+---+---+-------+-------+-------+-----+-----+---+--------+---+---+----+----+--------+----+-----+\n",
      "|    Type|                  DT| HexID|FlightNumber|AltBaro|AltGeom|GroundSpeed|Track|BaroRate|Squawk|Emergency|Category|NavQNH|NavAltitudeMCP|NavHeading| Latitude| Longitude|NIC| RC|SeenPos|Version|NICBaro|NAC_P|NAC_V|SIL|SIL_Type|GVA|SDA|MLAT|TISB|Messages|Seen| RSSI|\n",
      "+--------+--------------------+------+------------+-------+-------+-----------+-----+--------+------+---------+--------+------+--------------+----------+---------+----------+---+---+-------+-------+-------+-----+-----+---+--------+---+---+----+----+--------+----+-----+\n",
      "|new_adsb|2025-02-12 00:00:...|c0611f|    ACA858  |  33425|  32325|      596.9| 67.6|     960|  NULL|     NULL|      A5|1012.8|         35008|      NULL|44.741547|-75.766885|  8|186|    0.8|      2|      1|    9|    1|  3| perhour|  2|  3|  []|  []|      90| 0.5|-24.6|\n",
      "|new_adsb|2025-02-12 00:00:...|c078ba|    TSC939  |  28050|  27350|      480.4| 32.8|    -192|  6174|     none|      A5|1013.6|         28000|      NULL|44.127937|-75.909184|  8|186|    1.3|      2|      1|    9|    1|  3| perhour|  2|  2|  []|  []|    1183| 0.1|-24.2|\n",
      "|new_adsb|2025-02-12 00:00:...|c078ba|    TSC939  |  28050|  27350|      478.2| 32.8|    -192|  6174|     none|      A5|1013.6|         28000|      NULL|44.131382|-75.906045|  8|186|    0.5|      2|      1|    9|    1|  3| perhour|  2|  2|  []|  []|    1190| 0.2|-23.5|\n",
      "|new_adsb|2025-02-12 00:00:...|48ae07|    LOT4    |  39000|  37825|      605.7| 70.2|     -32|  1375|     none|      A5|1012.8|         39008|      80.2|45.350725|-74.108946|  8|186|    3.5|      2|      1|    9|    1|  3| perhour|  2|  2|  []|  []|    3897| 0.2|-24.3|\n",
      "|new_adsb|2025-02-12 00:00:...|c078ba|    TSC939  |  28050|  27350|      477.7| 32.7|    -192|  6174|     none|      A5|1013.6|         28000|      NULL|44.133151|-75.904476|  8|186|    0.6|      2|      1|    9|    1|  3| perhour|  2|  2|  []|  []|    1198| 0.2|-22.0|\n",
      "|new_adsb|2025-02-12 00:00:...|c078ba|    TSC939  |  28050|  27350|      477.7| 32.7|    -192|  6174|     none|      A5|1013.6|         28000|      NULL|44.135971|-75.901986|  8|186|    0.1|      2|      1|    9|    1|  3| perhour|  2|  2|  []|  []|    1205| 0.1|-22.3|\n",
      "|new_adsb|2025-02-12 00:00:...|aa6b9d|    UAL5    |  37000|  35825|      594.4| 68.0|       0|  0554|     none|      A5|1012.8|         36992|      78.0|45.240768|-73.606255|  8|186|   17.0|      2|      1|    9|    1|  3| perhour|  2|  2|  []|  []|    3834| 0.2|-26.1|\n",
      "|new_adsb|2025-02-12 00:00:...|c0611f|    ACA858  |  33500|  32325|      596.9| 67.6|     960|  NULL|     NULL|      A5|1012.8|         35008|      NULL|44.745895|-75.751975|  8|186|    0.8|      2|      1|    9|    1|  3| perhour|  2|  3|  []|  []|      93| 0.3|-23.1|\n",
      "|new_adsb|2025-02-12 00:00:...|c078ba|    TSC939  |  28050|  27325|      476.8| 32.8|    -192|  6174|     none|      A5|1013.6|         28000|      NULL|44.137024|-75.901028|  8|186|    0.6|      2|      1|    9|    1|  3| perhour|  2|  2|  []|  []|    1212| 0.1|-22.4|\n",
      "|new_adsb|2025-02-12 00:00:...|48ae07|    LOT4    |  39000|  37825|      605.7| 70.2|     -32|  1375|     none|      A5|1012.8|         39008|      80.2|45.350725|-74.108946|  8|186|    6.6|      2|      1|    9|    1|  3| perhour|  2|  2|  []|  []|    3901| 0.4|-24.6|\n",
      "|new_adsb|2025-02-12 00:00:...|c0611f|    ACA858  |  33500|  32400|      596.9| 67.6|    1024|  NULL|     NULL|      A5|1012.8|         35008|      NULL|44.745895|-75.751975|  8|186|    1.8|      2|      1|    9|    1|  3| perhour|  2|  3|  []|  []|      99| 0.0|-20.0|\n",
      "|new_adsb|2025-02-12 00:00:...|c078ba|    TSC939  |  28050|  27325|      476.8| 32.8|    -128|  6174|     none|      A5|1013.6|         22016|      NULL|44.139175|-75.899112|  8|186|    0.5|      2|      1|    9|    1|  3| perhour|  2|  2|  []|  []|    1220| 0.3|-21.7|\n",
      "|new_adsb|2025-02-12 00:00:...|48ae07|    LOT4    |  38975|  37800|      605.7| 70.2|     -32|  1375|     none|      A5|1012.8|         39008|      80.2|45.357651|-74.081661|  8|186|    0.4|      2|      1|    9|    1|  3| perhour|  2|  2|  []|  []|    3907| 0.1|-23.0|\n",
      "|new_adsb|2025-02-12 00:00:...|aa6b9d|    UAL5    |  37000|  35825|      594.4| 68.0|       0|  0554|     none|      A5|1012.8|         36992|      78.0|45.240768|-73.606255|  8|186|   19.0|      2|      1|    9|    1|  3| perhour|  2|  2|  []|  []|    3835| 0.2|-26.4|\n",
      "|new_adsb|2025-02-12 00:00:...|c0611f|    ACA858  |  33525|  32425|      596.9| 67.6|    1024|  NULL|     NULL|      A5|1012.8|         35008|      NULL|44.748138|-75.744324|  8|186|    0.7|      2|      1|    9|    1|  3| perhour|  2|  3|  []|  []|     108| 0.1|-20.3|\n",
      "|new_adsb|2025-02-12 00:00:...|c078ba|    TSC939  |  28050|  27325|      475.4| 32.7|    -128|  6174|     none|      A5|1013.6|         16992|      NULL|44.141052|-75.897451|  8|186|    0.5|      2|      1|    9|    1|  3| perhour|  2|  2|  []|  []|    1229| 0.2|-22.2|\n",
      "|new_adsb|2025-02-12 00:00:...|c078ba|    TSC939  |  28050|  27325|      474.9| 32.6|    -128|  6174|     none|      A5|1013.6|          8992|      NULL|44.142929| -75.89579|  8|186|    0.5|      2|      1|    9|    1|  3| perhour|  2|  2|  []|  []|    1236| 0.2|-21.4|\n",
      "|new_adsb|2025-02-12 00:00:...|48ae07|    LOT4    |  38975|  37800|      605.7| 70.2|    -352|  1375|     none|      A5|1012.8|         39008|      80.2|45.357651|-74.081661|  8|186|    2.5|      2|      1|    9|    1|  3| perhour|  2|  2|  []|  []|    3912| 0.1|-23.0|\n",
      "|new_adsb|2025-02-12 00:00:...|c078ba|    TSC939  |  28025|  27325|      474.9| 32.6|    -128|  6174|     none|      A5|1013.6|          8992|      NULL|44.145538|-75.893427|  8|186|    0.1|      2|      1|    9|    1|  3| perhour|  2|  2|  []|  []|    1242| 0.1|-21.9|\n",
      "|new_adsb|2025-02-12 00:00:...|c0611f|    ACA858  |  33525|  32425|      596.9| 67.6|    1024|  NULL|     NULL|      A5|1012.8|         35008|      NULL|44.748138|-75.744324|  8|186|    3.8|      2|      1|    9|    1|  3| perhour|  2|  3|  []|  []|     110| 0.2|-21.0|\n",
      "+--------+--------------------+------+------------+-------+-------+-----------+-----+--------+------+---------+--------+------+--------------+----------+---------+----------+---+---+-------+-------+-------+-----+-----+---+--------+---+---+----+----+--------+----+-----+\n",
      "only showing top 20 rows\n",
      "\n"
     ]
    }
   ],
   "source": [
    "new_df = flattened_df \n",
    "new_df.show()"
   ]
  },
  {
   "cell_type": "code",
   "execution_count": null,
   "metadata": {},
   "outputs": [
    {
     "name": "stdout",
     "output_type": "stream",
     "text": [
      "+--------+--------------------+------+------------+-------+-------+-----------+-----+--------+------+---------+--------+------+--------------+----------+---------+----------+---+---+-------+-------+-------+-----+-----+---+--------+---+---+----+----+--------+----+-----+----------+\n",
      "|    Type|                  DT| HexID|FlightNumber|AltBaro|AltGeom|GroundSpeed|Track|BaroRate|Squawk|Emergency|Category|NavQNH|NavAltitudeMCP|NavHeading| Latitude| Longitude|NIC| RC|SeenPos|Version|NICBaro|NAC_P|NAC_V|SIL|SIL_Type|GVA|SDA|MLAT|TISB|Messages|Seen| RSSI|      date|\n",
      "+--------+--------------------+------+------------+-------+-------+-----------+-----+--------+------+---------+--------+------+--------------+----------+---------+----------+---+---+-------+-------+-------+-----+-----+---+--------+---+---+----+----+--------+----+-----+----------+\n",
      "|new_adsb|2025-02-12 00:00:...|c0611f|    ACA858  |  33425|  32325|      596.9| 67.6|     960|  NULL|     NULL|      A5|1012.8|         35008|      NULL|44.741547|-75.766885|  8|186|    0.8|      2|      1|    9|    1|  3| perhour|  2|  3|  []|  []|      90| 0.5|-24.6|2025-02-12|\n",
      "|new_adsb|2025-02-12 00:00:...|c078ba|    TSC939  |  28050|  27350|      480.4| 32.8|    -192|  6174|     none|      A5|1013.6|         28000|      NULL|44.127937|-75.909184|  8|186|    1.3|      2|      1|    9|    1|  3| perhour|  2|  2|  []|  []|    1183| 0.1|-24.2|2025-02-12|\n",
      "|new_adsb|2025-02-12 00:00:...|c078ba|    TSC939  |  28050|  27350|      478.2| 32.8|    -192|  6174|     none|      A5|1013.6|         28000|      NULL|44.131382|-75.906045|  8|186|    0.5|      2|      1|    9|    1|  3| perhour|  2|  2|  []|  []|    1190| 0.2|-23.5|2025-02-12|\n",
      "|new_adsb|2025-02-12 00:00:...|48ae07|    LOT4    |  39000|  37825|      605.7| 70.2|     -32|  1375|     none|      A5|1012.8|         39008|      80.2|45.350725|-74.108946|  8|186|    3.5|      2|      1|    9|    1|  3| perhour|  2|  2|  []|  []|    3897| 0.2|-24.3|2025-02-12|\n",
      "|new_adsb|2025-02-12 00:00:...|c078ba|    TSC939  |  28050|  27350|      477.7| 32.7|    -192|  6174|     none|      A5|1013.6|         28000|      NULL|44.133151|-75.904476|  8|186|    0.6|      2|      1|    9|    1|  3| perhour|  2|  2|  []|  []|    1198| 0.2|-22.0|2025-02-12|\n",
      "+--------+--------------------+------+------------+-------+-------+-----------+-----+--------+------+---------+--------+------+--------------+----------+---------+----------+---+---+-------+-------+-------+-----+-----+---+--------+---+---+----+----+--------+----+-----+----------+\n",
      "only showing top 5 rows\n",
      "\n"
     ]
    }
   ],
   "source": [
    "\n",
    "from pyspark.sql.functions import to_date, col\n",
    "\n",
    "# Create a new column 'date' \n",
    "new_df = new_df.withColumn(\"date\", to_date(col(\"dt\")))\n",
    "new_df.show(5)\n"
   ]
  },
  {
   "cell_type": "code",
   "execution_count": 7,
   "metadata": {},
   "outputs": [
    {
     "name": "stdout",
     "output_type": "stream",
     "text": [
      "+----------+------+\n",
      "|      date| count|\n",
      "+----------+------+\n",
      "|2025-02-12|290414|\n",
      "|2025-02-11|294708|\n",
      "|2025-02-10|317545|\n",
      "|2025-02-08|247969|\n",
      "|2025-02-07|315886|\n",
      "|2025-02-06|310719|\n",
      "|2025-02-05|319251|\n",
      "|2025-02-04|282303|\n",
      "|2025-02-03|263173|\n",
      "|2025-02-02|358110|\n",
      "|2025-02-01|305422|\n",
      "+----------+------+\n",
      "\n"
     ]
    }
   ],
   "source": [
    "new_df.groupBy('date').count().show()"
   ]
  },
  {
   "cell_type": "code",
   "execution_count": 8,
   "metadata": {},
   "outputs": [
    {
     "data": {
      "text/plain": [
       "3305500"
      ]
     },
     "execution_count": 8,
     "metadata": {},
     "output_type": "execute_result"
    }
   ],
   "source": [
    "new_df.count()"
   ]
  },
  {
   "cell_type": "code",
   "execution_count": null,
   "metadata": {},
   "outputs": [
    {
     "name": "stdout",
     "output_type": "stream",
     "text": [
      "+----+---+-----+------------+-------+-------+-----------+-----+--------+------+---------+--------+------+--------------+----------+--------+---------+------+------+-------+-------+-------+-----+-----+-----+--------+------+------+----+----+--------+----+----+----+\n",
      "|Type| DT|HexID|FlightNumber|AltBaro|AltGeom|GroundSpeed|Track|BaroRate|Squawk|Emergency|Category|NavQNH|NavAltitudeMCP|NavHeading|Latitude|Longitude|   NIC|    RC|SeenPos|Version|NICBaro|NAC_P|NAC_V|  SIL|SIL_Type|   GVA|   SDA|MLAT|TISB|Messages|Seen|RSSI|date|\n",
      "+----+---+-----+------------+-------+-------+-----------+-----+--------+------+---------+--------+------+--------------+----------+--------+---------+------+------+-------+-------+-------+-----+-----+-----+--------+------+------+----+----+--------+----+----+----+\n",
      "|   0|  0|    0|      276221|  15010|  54917|      42309|42870|  401359|283412|   332264|  145885|435355|        447304|   1500774|  117031|   117031|117031|117031| 117031|  22203|  89831|60831|47425|60831|   27089|191045|189826|   0|   0|       0|   0|   0|   0|\n",
      "+----+---+-----+------------+-------+-------+-----------+-----+--------+------+---------+--------+------+--------------+----------+--------+---------+------+------+-------+-------+-------+-----+-----+-----+--------+------+------+----+----+--------+----+----+----+\n",
      "\n"
     ]
    }
   ],
   "source": [
    "from pyspark.sql.functions import col, sum\n",
    "\n",
    "\n",
    "null_counts = new_df.select([sum(col(c).isNull().cast(\"integer\")).alias(c) for c in new_df.columns])\n",
    "null_counts.show()\n",
    "\n"
   ]
  },
  {
   "cell_type": "code",
   "execution_count": 10,
   "metadata": {},
   "outputs": [
    {
     "name": "stdout",
     "output_type": "stream",
     "text": [
      "+------------+------+\n",
      "|FlightNumber| count|\n",
      "+------------+------+\n",
      "|        NULL|276221|\n",
      "|    JIA5350 | 16806|\n",
      "|    CFVLF   | 11894|\n",
      "|    N705KC  | 11584|\n",
      "|    DAL2643 | 10687|\n",
      "|    JZA569  | 10351|\n",
      "|    PTR2280 | 10254|\n",
      "|    PTR2340 | 10035|\n",
      "|    PTR2476 | 10032|\n",
      "|    PTR2452 |  9645|\n",
      "|    DAL2597 |  9463|\n",
      "|    PTR2296 |  9426|\n",
      "|    DAL2629 |  9320|\n",
      "|    DAL2416 |  9303|\n",
      "|    PWC328  |  9063|\n",
      "|    ACA649  |  8908|\n",
      "|    JZA7971 |  8779|\n",
      "|    SKW4122 |  8746|\n",
      "|    PTR2304 |  8698|\n",
      "|    JZA568  |  8535|\n",
      "+------------+------+\n",
      "only showing top 20 rows\n",
      "\n"
     ]
    }
   ],
   "source": [
    "new_df.groupBy(\"FlightNumber\").count().orderBy(\"count\", ascending=False).show()\n"
   ]
  },
  {
   "cell_type": "code",
   "execution_count": 11,
   "metadata": {},
   "outputs": [
    {
     "name": "stdout",
     "output_type": "stream",
     "text": [
      "+------------+---------+\n",
      "|FlightNumber|avg_speed|\n",
      "+------------+---------+\n",
      "|    UPS213  |    653.3|\n",
      "|    VIR8Y   |   644.85|\n",
      "|    N107AV  |   637.66|\n",
      "|    EJA746  |   637.49|\n",
      "|    EJA804  |   637.09|\n",
      "|    AFR6721 |   635.46|\n",
      "|    AAL9602 |   634.11|\n",
      "|    EJA205  |   633.54|\n",
      "|    THT8    |   632.88|\n",
      "|    GTI8092 |   632.86|\n",
      "+------------+---------+\n",
      "only showing top 10 rows\n",
      "\n"
     ]
    }
   ],
   "source": [
    "from pyspark.sql.functions import avg, round\n",
    "\n",
    "new_df.groupBy(\"FlightNumber\") \\\n",
    "  .agg(round(avg(\"GroundSpeed\"), 2).alias(\"avg_speed\")) \\\n",
    "  .orderBy(\"avg_speed\", ascending=False) \\\n",
    "  .show(10)\n"
   ]
  },
  {
   "cell_type": "code",
   "execution_count": 12,
   "metadata": {},
   "outputs": [
    {
     "name": "stdout",
     "output_type": "stream",
     "text": [
      "+---------+---------+------+\n",
      "|lat_group|lon_group|count |\n",
      "+---------+---------+------+\n",
      "|NULL     |NULL     |117031|\n",
      "|45.1     |-74.67   |3203  |\n",
      "|45.09    |-74.69   |3122  |\n",
      "|45.06    |-74.76   |3114  |\n",
      "|45.05    |-74.79   |3102  |\n",
      "|45.08    |-74.71   |3093  |\n",
      "|45.04    |-74.81   |3058  |\n",
      "|45.1     |-74.66   |3050  |\n",
      "|45.02    |-74.86   |3029  |\n",
      "|45.03    |-74.84   |3026  |\n",
      "+---------+---------+------+\n",
      "only showing top 10 rows\n",
      "\n"
     ]
    }
   ],
   "source": [
    "from pyspark.sql.functions import round\n",
    "\n",
    "new_df.groupBy(round(col(\"Latitude\"), 2).alias(\"lat_group\"),\n",
    "           round(col(\"Longitude\"), 2).alias(\"lon_group\")) \\\n",
    "  .count() \\\n",
    "  .orderBy(\"count\", ascending=False) \\\n",
    "  .show(10, truncate=False)\n"
   ]
  },
  {
   "cell_type": "code",
   "execution_count": 13,
   "metadata": {},
   "outputs": [
    {
     "name": "stdout",
     "output_type": "stream",
     "text": [
      "+------------+----------+----------+------------------+\n",
      "|FlightNumber|MaxAltBaro|MinAltBaro|        AvgAltBaro|\n",
      "+------------+----------+----------+------------------+\n",
      "|    OKJMD   |     47025|     46975| 47000.02329916123|\n",
      "|    N309EL  |     47000|     41000| 46314.65517241379|\n",
      "|    N162JC  |     46000|     45025| 45273.48484848485|\n",
      "|    N889CH  |     45025|     45000|45000.544554455446|\n",
      "|    ASP642  |     45025|     45000| 45000.10148849797|\n",
      "|    LXJ566  |     45000|     45000|           45000.0|\n",
      "|    LEA114D |     45025|     44975|44999.400684931505|\n",
      "|    LXJ558  |     45000|     44975|44997.074468085106|\n",
      "|    KCE2    |     45000|     44975| 44992.28624535316|\n",
      "|    CFOCI   |     45025|     44950| 44992.18436873748|\n",
      "+------------+----------+----------+------------------+\n",
      "only showing top 10 rows\n",
      "\n"
     ]
    }
   ],
   "source": [
    "from pyspark.sql.functions import max, min, avg\n",
    "\n",
    "new_df.groupBy(\"FlightNumber\") \\\n",
    "  .agg(\n",
    "    max(\"AltBaro\").alias(\"MaxAltBaro\"),\n",
    "    min(\"AltBaro\").alias(\"MinAltBaro\"),\n",
    "    avg(\"AltBaro\").alias(\"AvgAltBaro\")\n",
    "  ) \\\n",
    "  .orderBy(\"AvgAltBaro\", ascending=False) \\\n",
    "  .show(10)\n"
   ]
  },
  {
   "cell_type": "code",
   "execution_count": 14,
   "metadata": {},
   "outputs": [
    {
     "name": "stdout",
     "output_type": "stream",
     "text": [
      "+------------+--------------------------+-----------+-------+--------+\n",
      "|FlightNumber|DT                        |PrevAltBaro|AltBaro|AltDrop |\n",
      "+------------+--------------------------+-----------+-------+--------+\n",
      "|NULL        |2025-02-07 13:00:05.506616|122900     |6025   |116875.0|\n",
      "|NULL        |2025-02-02 13:46:54.672954|123000     |10575  |112425.0|\n",
      "|NULL        |2025-02-03 07:28:28.285634|118500     |18925  |99575.0 |\n",
      "|POE158      |2025-02-02 08:20:45.315007|118300     |23000  |95300.0 |\n",
      "|POE504      |2025-02-03 20:14:34.418755|118900     |24150  |94750.0 |\n",
      "|POE518      |2025-02-07 19:45:13.366376|121600     |26900  |94700.0 |\n",
      "|NULL        |2025-02-12 17:52:35.738551|113500     |19975  |93525.0 |\n",
      "|NULL        |2025-02-06 21:39:20.917173|119000     |25525  |93475.0 |\n",
      "|ACA468      |2025-02-01 21:53:10.363923|101200     |9375   |91825.0 |\n",
      "|ASA364      |2025-02-05 19:06:24.786689|123700     |32000  |91700.0 |\n",
      "+------------+--------------------------+-----------+-------+--------+\n",
      "only showing top 10 rows\n",
      "\n"
     ]
    }
   ],
   "source": [
    "from pyspark.sql.window import Window\n",
    "from pyspark.sql.functions import lag, col\n",
    "\n",
    "# Define a window partitioned by FlightNumber and ordered by DT\n",
    "windowSpec = Window.partitionBy(\"FlightNumber\").orderBy(\"DT\")\n",
    "\n",
    "# Calculate the previous altitude (AltBaro) and compute the drop\n",
    "df_altitude = new_df.withColumn(\"PrevAltBaro\", lag(\"AltBaro\").over(windowSpec))\n",
    "df_altitude = df_altitude.withColumn(\"AltDrop\", col(\"PrevAltBaro\") - col(\"AltBaro\"))\n",
    "\n",
    "# Filter for significant altitude drops (e.g., greater than 1000 feet)\n",
    "df_altitude.filter(col(\"AltDrop\") > 1000) \\\n",
    "  .select(\"FlightNumber\", \"DT\", \"PrevAltBaro\", \"AltBaro\", \"AltDrop\") \\\n",
    "  .orderBy(\"AltDrop\", ascending=False) \\\n",
    "  .show(10, truncate=False)\n",
    "\n"
   ]
  },
  {
   "cell_type": "code",
   "execution_count": 15,
   "metadata": {},
   "outputs": [],
   "source": [
    "# Register the DataFrame as a temporary view named \"flights\"\n",
    "new_df.createOrReplaceTempView(\"flights\")\n"
   ]
  },
  {
   "cell_type": "code",
   "execution_count": 16,
   "metadata": {},
   "outputs": [
    {
     "name": "stdout",
     "output_type": "stream",
     "text": [
      "+--------+--------------------------+------+------------+-------+-------+-----------+-----+--------+------+---------+--------+------+--------------+----------+---------+----------+---+---+-------+-------+-------+-----+-----+---+--------+---+---+----+----+--------+----+-----+----------+\n",
      "|Type    |DT                        |HexID |FlightNumber|AltBaro|AltGeom|GroundSpeed|Track|BaroRate|Squawk|Emergency|Category|NavQNH|NavAltitudeMCP|NavHeading|Latitude |Longitude |NIC|RC |SeenPos|Version|NICBaro|NAC_P|NAC_V|SIL|SIL_Type|GVA|SDA|MLAT|TISB|Messages|Seen|RSSI |date      |\n",
      "+--------+--------------------------+------+------------+-------+-------+-----------+-----+--------+------+---------+--------+------+--------------+----------+---------+----------+---+---+-------+-------+-------+-----+-----+---+--------+---+---+----+----+--------+----+-----+----------+\n",
      "|new_adsb|2025-02-12 00:00:00.023480|c0611f|ACA858      |33425  |32325  |596.9      |67.6 |960     |NULL  |NULL     |A5      |1012.8|35008         |NULL      |44.741547|-75.766885|8  |186|0.8    |2      |1      |9    |1    |3  |perhour |2  |3  |[]  |[]  |90      |0.5 |-24.6|2025-02-12|\n",
      "|new_adsb|2025-02-12 00:00:00.029517|c078ba|TSC939      |28050  |27350  |480.4      |32.8 |-192    |6174  |none     |A5      |1013.6|28000         |NULL      |44.127937|-75.909184|8  |186|1.3    |2      |1      |9    |1    |3  |perhour |2  |2  |[]  |[]  |1183    |0.1 |-24.2|2025-02-12|\n",
      "|new_adsb|2025-02-12 00:00:01.056869|c078ba|TSC939      |28050  |27350  |478.2      |32.8 |-192    |6174  |none     |A5      |1013.6|28000         |NULL      |44.131382|-75.906045|8  |186|0.5    |2      |1      |9    |1    |3  |perhour |2  |2  |[]  |[]  |1190    |0.2 |-23.5|2025-02-12|\n",
      "|new_adsb|2025-02-12 00:00:01.057026|48ae07|LOT4        |39000  |37825  |605.7      |70.2 |-32     |1375  |none     |A5      |1012.8|39008         |80.2      |45.350725|-74.108946|8  |186|3.5    |2      |1      |9    |1    |3  |perhour |2  |2  |[]  |[]  |3897    |0.2 |-24.3|2025-02-12|\n",
      "|new_adsb|2025-02-12 00:00:02.077593|c078ba|TSC939      |28050  |27350  |477.7      |32.7 |-192    |6174  |none     |A5      |1013.6|28000         |NULL      |44.133151|-75.904476|8  |186|0.6    |2      |1      |9    |1    |3  |perhour |2  |2  |[]  |[]  |1198    |0.2 |-22.0|2025-02-12|\n",
      "|new_adsb|2025-02-12 00:00:03.110872|c078ba|TSC939      |28050  |27350  |477.7      |32.7 |-192    |6174  |none     |A5      |1013.6|28000         |NULL      |44.135971|-75.901986|8  |186|0.1    |2      |1      |9    |1    |3  |perhour |2  |2  |[]  |[]  |1205    |0.1 |-22.3|2025-02-12|\n",
      "|new_adsb|2025-02-12 00:00:03.111036|aa6b9d|UAL5        |37000  |35825  |594.4      |68.0 |0       |0554  |none     |A5      |1012.8|36992         |78.0      |45.240768|-73.606255|8  |186|17.0   |2      |1      |9    |1    |3  |perhour |2  |2  |[]  |[]  |3834    |0.2 |-26.1|2025-02-12|\n",
      "|new_adsb|2025-02-12 00:00:04.128488|c0611f|ACA858      |33500  |32325  |596.9      |67.6 |960     |NULL  |NULL     |A5      |1012.8|35008         |NULL      |44.745895|-75.751975|8  |186|0.8    |2      |1      |9    |1    |3  |perhour |2  |3  |[]  |[]  |93      |0.3 |-23.1|2025-02-12|\n",
      "|new_adsb|2025-02-12 00:00:04.128849|c078ba|TSC939      |28050  |27325  |476.8      |32.8 |-192    |6174  |none     |A5      |1013.6|28000         |NULL      |44.137024|-75.901028|8  |186|0.6    |2      |1      |9    |1    |3  |perhour |2  |2  |[]  |[]  |1212    |0.1 |-22.4|2025-02-12|\n",
      "|new_adsb|2025-02-12 00:00:04.129132|48ae07|LOT4        |39000  |37825  |605.7      |70.2 |-32     |1375  |none     |A5      |1012.8|39008         |80.2      |45.350725|-74.108946|8  |186|6.6    |2      |1      |9    |1    |3  |perhour |2  |2  |[]  |[]  |3901    |0.4 |-24.6|2025-02-12|\n",
      "+--------+--------------------------+------+------------+-------+-------+-----------+-----+--------+------+---------+--------+------+--------------+----------+---------+----------+---+---+-------+-------+-------+-----+-----+---+--------+---+---+----+----+--------+----+-----+----------+\n",
      "only showing top 10 rows\n",
      "\n"
     ]
    }
   ],
   "source": [
    "# Simple query to select all columns from the flights view\n",
    "all_flights = spark.sql(\"SELECT * FROM flights\")\n",
    "all_flights.show(10, truncate=False)\n"
   ]
  },
  {
   "cell_type": "code",
   "execution_count": 17,
   "metadata": {},
   "outputs": [
    {
     "name": "stdout",
     "output_type": "stream",
     "text": [
      "+------------+--------------------------+-------+---------+----------+\n",
      "|FlightNumber|DT                        |AltBaro|Latitude |Longitude |\n",
      "+------------+--------------------------+-------+---------+----------+\n",
      "|N705KC      |2025-02-01 02:05:02.297323|4800   |44.453896|-75.135096|\n",
      "|N705KC      |2025-02-01 02:05:07.401492|4700   |44.457413|-75.128108|\n",
      "|N705KC      |2025-02-01 02:05:08.421210|4700   |44.457713|-75.127459|\n",
      "|N705KC      |2025-02-01 02:05:10.456046|4600   |44.459244|-75.124381|\n",
      "|N705KC      |2025-02-01 02:05:11.473198|4600   |44.459529|-75.123909|\n",
      "|N705KC      |2025-02-01 02:05:12.495895|4600   |44.46032 |-75.122234|\n",
      "|N705KC      |2025-02-01 02:05:13.515173|4600   |44.461029|-75.120784|\n",
      "|N705KC      |2025-02-01 02:05:14.529976|4500   |44.461716|-75.119476|\n",
      "|N705KC      |2025-02-01 02:05:15.556380|4500   |44.462265|-75.118299|\n",
      "|N705KC      |2025-02-01 02:05:16.576722|4500   |44.46286 |-75.117122|\n",
      "+------------+--------------------------+-------+---------+----------+\n",
      "only showing top 10 rows\n",
      "\n"
     ]
    }
   ],
   "source": [
    "low_altitude_flights = spark.sql(\"\"\"\n",
    "    SELECT FlightNumber, DT, AltBaro, Latitude, Longitude \n",
    "    FROM flights \n",
    "    WHERE AltBaro < 5000\n",
    "    ORDER BY DT\n",
    "\"\"\")\n",
    "low_altitude_flights.show(10, truncate=False)\n",
    "\n"
   ]
  },
  {
   "cell_type": "code",
   "execution_count": 18,
   "metadata": {},
   "outputs": [
    {
     "name": "stdout",
     "output_type": "stream",
     "text": [
      "+------------+--------------------------+------------------+---------+----------+\n",
      "|FlightNumber|FirstDT                   |AvgAltBaro        |Latitude |Longitude |\n",
      "+------------+--------------------------+------------------+---------+----------+\n",
      "|N705KC      |2025-02-01 02:05:02.297323|2294.5890128046262|44.391495|-75.174539|\n",
      "|NULL        |2025-02-01 02:12:52.840921|3075.3948753948753|43.638207|-76.175537|\n",
      "|BTQ861      |2025-02-01 08:28:16.270446|4322.916666666667 |44.847198|-74.779619|\n",
      "|CVU71       |2025-02-01 09:15:31.297153|2379.982495623906 |44.305893|-75.086714|\n",
      "|N2626T      |2025-02-01 10:27:14.678542|3615.2083333333335|44.27304 |-75.388903|\n",
      "|BTQ862      |2025-02-01 11:37:55.774688|3681.8030973451328|44.715317|-74.976523|\n",
      "|CFXKI       |2025-02-01 11:52:26.751456|4584.411764705882 |44.866767|-74.767456|\n",
      "|BTQ863      |2025-02-01 12:09:05.649045|4317.96218487395  |44.840286|-74.834617|\n",
      "|JZA7962     |2025-02-01 12:47:42.252269|1850.0            |NULL     |NULL      |\n",
      "|N87341      |2025-02-01 14:40:48.078744|4136.111111111111 |44.152191|-75.294342|\n",
      "+------------+--------------------------+------------------+---------+----------+\n",
      "only showing top 10 rows\n",
      "\n"
     ]
    }
   ],
   "source": [
    "low_altitude_flights = spark.sql(\"\"\"\n",
    "    SELECT \n",
    "        FlightNumber,\n",
    "        MIN(DT) AS FirstDT,\n",
    "        AVG(AltBaro) AS AvgAltBaro,\n",
    "        MIN(Latitude) AS Latitude,\n",
    "        MIN(Longitude) AS Longitude\n",
    "    FROM flights\n",
    "    WHERE AltBaro < 5000\n",
    "    GROUP BY FlightNumber\n",
    "    ORDER BY FirstDT\n",
    "\"\"\")\n",
    "low_altitude_flights.show(10, truncate=False)\n"
   ]
  },
  {
   "cell_type": "code",
   "execution_count": null,
   "metadata": {},
   "outputs": [],
   "source": []
  },
  {
   "cell_type": "code",
   "execution_count": 19,
   "metadata": {},
   "outputs": [],
   "source": [
    "from pyspark.sql.functions import date_trunc, col, first\n",
    "\n",
    "# Truncate the DT column to the second level and alias it as SecondTS\n",
    "df_with_second = new_df.withColumn(\"SecondTS\", date_trunc(\"second\", col(\"DT\")))\n",
    "\n",
    "# Group by FlightNumber and SecondTS, then take the first Latitude and Longitude in that second\n",
    "df_snapshot = df_with_second.groupBy(\"FlightNumber\", \"SecondTS\").agg(\n",
    "    first(\"Latitude\").alias(\"Latitude\"),\n",
    "    first(\"Longitude\").alias(\"Longitude\")\n",
    ")\n",
    "\n",
    "# Order by FlightNumber and SecondTS for clarity and display the result\n",
    "df_flightpath = df_snapshot.orderBy(\"FlightNumber\", \"SecondTS\")\n",
    "\n",
    "\n"
   ]
  },
  {
   "cell_type": "code",
   "execution_count": 20,
   "metadata": {},
   "outputs": [
    {
     "name": "stdout",
     "output_type": "stream",
     "text": [
      "+------------+-------------------+---------+----------+\n",
      "|FlightNumber|           SecondTS| Latitude| Longitude|\n",
      "+------------+-------------------+---------+----------+\n",
      "|        NULL|2025-02-01 00:00:02|     NULL|      NULL|\n",
      "|        NULL|2025-02-01 00:00:14|44.708405|-75.964573|\n",
      "|        NULL|2025-02-01 00:00:15|44.709281|-75.961482|\n",
      "|        NULL|2025-02-01 00:00:19|44.712936|-75.948617|\n",
      "|        NULL|2025-02-01 00:00:20|44.713577|-75.946132|\n",
      "|        NULL|2025-02-01 00:00:21|44.713577|-75.946132|\n",
      "|        NULL|2025-02-01 00:00:27|45.142403|-74.560592|\n",
      "|        NULL|2025-02-01 00:00:32|45.582138| -73.89143|\n",
      "|        NULL|2025-02-01 00:00:33|44.724178|-75.905747|\n",
      "|        NULL|2025-02-01 00:00:45|44.724178|-75.905747|\n",
      "|        NULL|2025-02-01 00:00:49|44.736887|-75.857313|\n",
      "|        NULL|2025-02-01 00:00:54|45.582138| -73.89143|\n",
      "|        NULL|2025-02-01 00:00:55|45.582138| -73.89143|\n",
      "|        NULL|2025-02-01 00:01:06|44.736887|-75.857313|\n",
      "|        NULL|2025-02-01 00:01:07|44.736887|-75.857313|\n",
      "|        NULL|2025-02-01 00:01:09|44.753265|-75.795332|\n",
      "|        NULL|2025-02-01 00:01:11|44.754716|-75.789854|\n",
      "|        NULL|2025-02-01 00:01:12|45.582138| -73.89143|\n",
      "|        NULL|2025-02-01 00:01:38|     NULL|      NULL|\n",
      "|        NULL|2025-02-01 00:01:50|     NULL|      NULL|\n",
      "+------------+-------------------+---------+----------+\n",
      "only showing top 20 rows\n",
      "\n"
     ]
    }
   ],
   "source": [
    "df_flightpath.show()"
   ]
  },
  {
   "cell_type": "code",
   "execution_count": 21,
   "metadata": {},
   "outputs": [
    {
     "name": "stdout",
     "output_type": "stream",
     "text": [
      "Distinct FlightNumber count: 2199\n"
     ]
    }
   ],
   "source": [
    "distinct_flights_count = df_flightpath.select(\"FlightNumber\").distinct().count()\n",
    "print(\"Distinct FlightNumber count:\", distinct_flights_count)\n"
   ]
  },
  {
   "cell_type": "code",
   "execution_count": 22,
   "metadata": {},
   "outputs": [
    {
     "name": "stdout",
     "output_type": "stream",
     "text": [
      "+------------+--------+--------+---------+\n",
      "|FlightNumber|SecondTS|Latitude|Longitude|\n",
      "+------------+--------+--------+---------+\n",
      "+------------+--------+--------+---------+\n",
      "\n"
     ]
    }
   ],
   "source": [
    "from pyspark.sql.functions import col\n",
    "\n",
    "selected_df = df_flightpath.filter(col(\"FlightNumber\") == \"ACA401\")\n",
    "selected_df.show()\n"
   ]
  },
  {
   "cell_type": "code",
   "execution_count": 23,
   "metadata": {},
   "outputs": [
    {
     "name": "stdout",
     "output_type": "stream",
     "text": [
      "+--------+--------------------+------+------------+-------+-------+-----------+-----+--------+------+---------+--------+------+--------------+----------+---------+----------+---+---+-------+-------+-------+-----+-----+---+--------+---+---+----+----+--------+----+-----+----------+\n",
      "|    Type|                  DT| HexID|FlightNumber|AltBaro|AltGeom|GroundSpeed|Track|BaroRate|Squawk|Emergency|Category|NavQNH|NavAltitudeMCP|NavHeading| Latitude| Longitude|NIC| RC|SeenPos|Version|NICBaro|NAC_P|NAC_V|SIL|SIL_Type|GVA|SDA|MLAT|TISB|Messages|Seen| RSSI|      date|\n",
      "+--------+--------------------+------+------------+-------+-------+-----------+-----+--------+------+---------+--------+------+--------------+----------+---------+----------+---+---+-------+-------+-------+-----+-----+---+--------+---+---+----+----+--------+----+-----+----------+\n",
      "|new_adsb|2025-02-12 00:00:...|c0611f|    ACA858  |  33425|  32325|      596.9| 67.6|     960|  NULL|     NULL|      A5|1012.8|         35008|      NULL|44.741547|-75.766885|  8|186|    0.8|      2|      1|    9|    1|  3| perhour|  2|  3|  []|  []|      90| 0.5|-24.6|2025-02-12|\n",
      "|new_adsb|2025-02-12 00:00:...|c078ba|    TSC939  |  28050|  27350|      480.4| 32.8|    -192|  6174|     none|      A5|1013.6|         28000|      NULL|44.127937|-75.909184|  8|186|    1.3|      2|      1|    9|    1|  3| perhour|  2|  2|  []|  []|    1183| 0.1|-24.2|2025-02-12|\n",
      "|new_adsb|2025-02-12 00:00:...|c078ba|    TSC939  |  28050|  27350|      478.2| 32.8|    -192|  6174|     none|      A5|1013.6|         28000|      NULL|44.131382|-75.906045|  8|186|    0.5|      2|      1|    9|    1|  3| perhour|  2|  2|  []|  []|    1190| 0.2|-23.5|2025-02-12|\n",
      "|new_adsb|2025-02-12 00:00:...|48ae07|    LOT4    |  39000|  37825|      605.7| 70.2|     -32|  1375|     none|      A5|1012.8|         39008|      80.2|45.350725|-74.108946|  8|186|    3.5|      2|      1|    9|    1|  3| perhour|  2|  2|  []|  []|    3897| 0.2|-24.3|2025-02-12|\n",
      "|new_adsb|2025-02-12 00:00:...|c078ba|    TSC939  |  28050|  27350|      477.7| 32.7|    -192|  6174|     none|      A5|1013.6|         28000|      NULL|44.133151|-75.904476|  8|186|    0.6|      2|      1|    9|    1|  3| perhour|  2|  2|  []|  []|    1198| 0.2|-22.0|2025-02-12|\n",
      "|new_adsb|2025-02-12 00:00:...|c078ba|    TSC939  |  28050|  27350|      477.7| 32.7|    -192|  6174|     none|      A5|1013.6|         28000|      NULL|44.135971|-75.901986|  8|186|    0.1|      2|      1|    9|    1|  3| perhour|  2|  2|  []|  []|    1205| 0.1|-22.3|2025-02-12|\n",
      "|new_adsb|2025-02-12 00:00:...|aa6b9d|    UAL5    |  37000|  35825|      594.4| 68.0|       0|  0554|     none|      A5|1012.8|         36992|      78.0|45.240768|-73.606255|  8|186|   17.0|      2|      1|    9|    1|  3| perhour|  2|  2|  []|  []|    3834| 0.2|-26.1|2025-02-12|\n",
      "|new_adsb|2025-02-12 00:00:...|c0611f|    ACA858  |  33500|  32325|      596.9| 67.6|     960|  NULL|     NULL|      A5|1012.8|         35008|      NULL|44.745895|-75.751975|  8|186|    0.8|      2|      1|    9|    1|  3| perhour|  2|  3|  []|  []|      93| 0.3|-23.1|2025-02-12|\n",
      "|new_adsb|2025-02-12 00:00:...|c078ba|    TSC939  |  28050|  27325|      476.8| 32.8|    -192|  6174|     none|      A5|1013.6|         28000|      NULL|44.137024|-75.901028|  8|186|    0.6|      2|      1|    9|    1|  3| perhour|  2|  2|  []|  []|    1212| 0.1|-22.4|2025-02-12|\n",
      "|new_adsb|2025-02-12 00:00:...|48ae07|    LOT4    |  39000|  37825|      605.7| 70.2|     -32|  1375|     none|      A5|1012.8|         39008|      80.2|45.350725|-74.108946|  8|186|    6.6|      2|      1|    9|    1|  3| perhour|  2|  2|  []|  []|    3901| 0.4|-24.6|2025-02-12|\n",
      "|new_adsb|2025-02-12 00:00:...|c0611f|    ACA858  |  33500|  32400|      596.9| 67.6|    1024|  NULL|     NULL|      A5|1012.8|         35008|      NULL|44.745895|-75.751975|  8|186|    1.8|      2|      1|    9|    1|  3| perhour|  2|  3|  []|  []|      99| 0.0|-20.0|2025-02-12|\n",
      "|new_adsb|2025-02-12 00:00:...|c078ba|    TSC939  |  28050|  27325|      476.8| 32.8|    -128|  6174|     none|      A5|1013.6|         22016|      NULL|44.139175|-75.899112|  8|186|    0.5|      2|      1|    9|    1|  3| perhour|  2|  2|  []|  []|    1220| 0.3|-21.7|2025-02-12|\n",
      "|new_adsb|2025-02-12 00:00:...|48ae07|    LOT4    |  38975|  37800|      605.7| 70.2|     -32|  1375|     none|      A5|1012.8|         39008|      80.2|45.357651|-74.081661|  8|186|    0.4|      2|      1|    9|    1|  3| perhour|  2|  2|  []|  []|    3907| 0.1|-23.0|2025-02-12|\n",
      "|new_adsb|2025-02-12 00:00:...|aa6b9d|    UAL5    |  37000|  35825|      594.4| 68.0|       0|  0554|     none|      A5|1012.8|         36992|      78.0|45.240768|-73.606255|  8|186|   19.0|      2|      1|    9|    1|  3| perhour|  2|  2|  []|  []|    3835| 0.2|-26.4|2025-02-12|\n",
      "|new_adsb|2025-02-12 00:00:...|c0611f|    ACA858  |  33525|  32425|      596.9| 67.6|    1024|  NULL|     NULL|      A5|1012.8|         35008|      NULL|44.748138|-75.744324|  8|186|    0.7|      2|      1|    9|    1|  3| perhour|  2|  3|  []|  []|     108| 0.1|-20.3|2025-02-12|\n",
      "|new_adsb|2025-02-12 00:00:...|c078ba|    TSC939  |  28050|  27325|      475.4| 32.7|    -128|  6174|     none|      A5|1013.6|         16992|      NULL|44.141052|-75.897451|  8|186|    0.5|      2|      1|    9|    1|  3| perhour|  2|  2|  []|  []|    1229| 0.2|-22.2|2025-02-12|\n",
      "|new_adsb|2025-02-12 00:00:...|c078ba|    TSC939  |  28050|  27325|      474.9| 32.6|    -128|  6174|     none|      A5|1013.6|          8992|      NULL|44.142929| -75.89579|  8|186|    0.5|      2|      1|    9|    1|  3| perhour|  2|  2|  []|  []|    1236| 0.2|-21.4|2025-02-12|\n",
      "|new_adsb|2025-02-12 00:00:...|48ae07|    LOT4    |  38975|  37800|      605.7| 70.2|    -352|  1375|     none|      A5|1012.8|         39008|      80.2|45.357651|-74.081661|  8|186|    2.5|      2|      1|    9|    1|  3| perhour|  2|  2|  []|  []|    3912| 0.1|-23.0|2025-02-12|\n",
      "|new_adsb|2025-02-12 00:00:...|c078ba|    TSC939  |  28025|  27325|      474.9| 32.6|    -128|  6174|     none|      A5|1013.6|          8992|      NULL|44.145538|-75.893427|  8|186|    0.1|      2|      1|    9|    1|  3| perhour|  2|  2|  []|  []|    1242| 0.1|-21.9|2025-02-12|\n",
      "|new_adsb|2025-02-12 00:00:...|c0611f|    ACA858  |  33525|  32425|      596.9| 67.6|    1024|  NULL|     NULL|      A5|1012.8|         35008|      NULL|44.748138|-75.744324|  8|186|    3.8|      2|      1|    9|    1|  3| perhour|  2|  3|  []|  []|     110| 0.2|-21.0|2025-02-12|\n",
      "+--------+--------------------+------+------------+-------+-------+-----------+-----+--------+------+---------+--------+------+--------------+----------+---------+----------+---+---+-------+-------+-------+-----+-----+---+--------+---+---+----+----+--------+----+-----+----------+\n",
      "only showing top 20 rows\n",
      "\n"
     ]
    }
   ],
   "source": [
    "new_df.show()"
   ]
  },
  {
   "cell_type": "code",
   "execution_count": 24,
   "metadata": {},
   "outputs": [
    {
     "name": "stdout",
     "output_type": "stream",
     "text": [
      "+------------+-------------------+---------+----------+----------+\n",
      "|FlightNumber|SecondTS           |Latitude |Longitude |date      |\n",
      "+------------+-------------------+---------+----------+----------+\n",
      "|ACA840      |2025-02-01 17:23:11|44.822113|-76.012704|2025-02-05|\n",
      "|ACA840      |2025-02-01 17:23:58|44.86323 |-75.853562|2025-02-05|\n",
      "|ACA840      |2025-02-01 17:24:06|44.870538|-75.825225|2025-02-05|\n",
      "|ACA840      |2025-02-01 17:24:14|44.876962|-75.800171|2025-02-05|\n",
      "|ACA840      |2025-02-01 17:24:45|44.904614|-75.692183|2025-02-05|\n",
      "|ACA840      |2025-02-01 17:25:20|44.934402|-75.575801|2025-02-05|\n",
      "|ACA840      |2025-02-01 17:25:30|44.942642|-75.5433  |2025-02-05|\n",
      "|ACA840      |2025-02-01 17:25:38|44.950562|-75.512107|2025-02-05|\n",
      "|ACA840      |2025-02-01 17:26:01|44.969101|-75.438799|2025-02-05|\n",
      "|ACA840      |2025-02-01 17:26:15|44.981239|-75.390595|2025-02-05|\n",
      "+------------+-------------------+---------+----------+----------+\n",
      "only showing top 10 rows\n",
      "\n"
     ]
    }
   ],
   "source": [
    "from pyspark.sql.functions import col\n",
    "\n",
    "new_df_for_join = new_df.select(\"FlightNumber\",\"date\" )\n",
    "\n",
    "# Perform a left join on FlightNumber and SecondTS\n",
    "df_flightpath_with_date = df_flightpath.join(\n",
    "    new_df_for_join,\n",
    "    on=[\"FlightNumber\"],\n",
    "    how=\"right\"\n",
    ")\n",
    "\n",
    "df_flightpath_with_date.show(10, truncate=False)    \n",
    "\n"
   ]
  },
  {
   "cell_type": "code",
   "execution_count": 25,
   "metadata": {},
   "outputs": [
    {
     "name": "stdout",
     "output_type": "stream",
     "text": [
      "+------------+------+\n",
      "|FlightNumber| count|\n",
      "+------------+------+\n",
      "|        NULL|229919|\n",
      "|    JIA5350 | 16806|\n",
      "|    CFVLF   | 11892|\n",
      "|    N705KC  | 11583|\n",
      "|    DAL2643 | 10686|\n",
      "|    JZA569  | 10351|\n",
      "|    PTR2280 | 10252|\n",
      "|    PTR2340 | 10035|\n",
      "|    PTR2476 | 10032|\n",
      "|    PTR2452 |  9644|\n",
      "|    DAL2597 |  9461|\n",
      "|    PTR2296 |  9426|\n",
      "|    DAL2629 |  9319|\n",
      "|    DAL2416 |  9302|\n",
      "|    PWC328  |  9063|\n",
      "|    ACA649  |  8908|\n",
      "|    JZA7971 |  8779|\n",
      "|    SKW4122 |  8746|\n",
      "|    PTR2304 |  8698|\n",
      "|    JZA568  |  8534|\n",
      "+------------+------+\n",
      "only showing top 20 rows\n",
      "\n"
     ]
    }
   ],
   "source": [
    "df_flightpath.groupBy(\"FlightNumber\").count().orderBy(\"count\", ascending=False).show()"
   ]
  },
  {
   "cell_type": "code",
   "execution_count": 26,
   "metadata": {},
   "outputs": [
    {
     "name": "stdout",
     "output_type": "stream",
     "text": [
      "+------------+-------------------+---------+----------+----------+--------+\n",
      "|FlightNumber|SecondTS           |Latitude |Longitude |date      |Time    |\n",
      "+------------+-------------------+---------+----------+----------+--------+\n",
      "|ACA840      |2025-02-01 17:23:11|44.822113|-76.012704|2025-02-05|17:23:11|\n",
      "|ACA840      |2025-02-01 17:23:58|44.86323 |-75.853562|2025-02-05|17:23:58|\n",
      "|ACA840      |2025-02-01 17:24:06|44.870538|-75.825225|2025-02-05|17:24:06|\n",
      "|ACA840      |2025-02-01 17:24:14|44.876962|-75.800171|2025-02-05|17:24:14|\n",
      "|ACA840      |2025-02-01 17:24:45|44.904614|-75.692183|2025-02-05|17:24:45|\n",
      "|ACA840      |2025-02-01 17:25:20|44.934402|-75.575801|2025-02-05|17:25:20|\n",
      "|ACA840      |2025-02-01 17:25:30|44.942642|-75.5433  |2025-02-05|17:25:30|\n",
      "|ACA840      |2025-02-01 17:25:38|44.950562|-75.512107|2025-02-05|17:25:38|\n",
      "|ACA840      |2025-02-01 17:26:01|44.969101|-75.438799|2025-02-05|17:26:01|\n",
      "|ACA840      |2025-02-01 17:26:15|44.981239|-75.390595|2025-02-05|17:26:15|\n",
      "+------------+-------------------+---------+----------+----------+--------+\n",
      "only showing top 10 rows\n",
      "\n"
     ]
    }
   ],
   "source": [
    "from pyspark.sql.functions import date_format, col\n",
    "\n",
    "df_time_only = df_flightpath_with_date.withColumn(\n",
    "    \"Time\", date_format(col(\"SecondTS\"), \"HH:mm:ss\")\n",
    ")\n",
    "df_time_only.show(10, truncate=False)\n"
   ]
  },
  {
   "cell_type": "code",
   "execution_count": null,
   "metadata": {},
   "outputs": [],
   "source": []
  }
 ],
 "metadata": {
  "kernelspec": {
   "display_name": "Python 3",
   "language": "python",
   "name": "python3"
  },
  "language_info": {
   "codemirror_mode": {
    "name": "ipython",
    "version": 3
   },
   "file_extension": ".py",
   "mimetype": "text/x-python",
   "name": "python",
   "nbconvert_exporter": "python",
   "pygments_lexer": "ipython3",
   "version": "3.12.1"
  }
 },
 "nbformat": 4,
 "nbformat_minor": 2
}
