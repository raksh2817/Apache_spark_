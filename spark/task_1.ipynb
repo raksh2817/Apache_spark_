{
 "cells": [
  {
   "cell_type": "code",
   "execution_count": 1,
   "metadata": {},
   "outputs": [],
   "source": [
    "### THIS IS COMPARSION BETWEEN PYSPARK AND PANDAS LOAD TIME###\n",
    "\n",
    "import pandas as pd\n",
    "import numpy as np\n",
    "import time\n",
    "from pyspark.sql import SparkSession    \n",
    "from pyspark.sql import functions as F\n",
    "from pyspark.sql.types import StructType, StructField, StringType, IntegerType\n"
   ]
  },
  {
   "cell_type": "code",
   "execution_count": 13,
   "metadata": {},
   "outputs": [
    {
     "name": "stderr",
     "output_type": "stream",
     "text": [
      "<>:1: SyntaxWarning: invalid escape sequence '\\P'\n",
      "<>:1: SyntaxWarning: invalid escape sequence '\\P'\n",
      "C:\\Users\\raksh\\AppData\\Local\\Temp\\ipykernel_29832\\2043049915.py:1: SyntaxWarning: invalid escape sequence '\\P'\n",
      "  df_pandas = pd.read_json(\"D:\\Project\\Spark_project\\combined_file.txt\",lines=True)\n"
     ]
    }
   ],
   "source": [
    "df_pandas = pd.read_json(\"D:\\Project\\Spark_project\\combined_file.txt\",lines=True)"
   ]
  },
  {
   "cell_type": "markdown",
   "metadata": {},
   "source": [
    "## we can notice that pandas has taken around 1 min to load file of size 1GB \n"
   ]
  },
  {
   "cell_type": "code",
   "execution_count": 14,
   "metadata": {},
   "outputs": [
    {
     "name": "stdout",
     "output_type": "stream",
     "text": [
      "(1829647, 3)\n"
     ]
    },
    {
     "data": {
      "text/html": [
       "<div>\n",
       "<style scoped>\n",
       "    .dataframe tbody tr th:only-of-type {\n",
       "        vertical-align: middle;\n",
       "    }\n",
       "\n",
       "    .dataframe tbody tr th {\n",
       "        vertical-align: top;\n",
       "    }\n",
       "\n",
       "    .dataframe thead th {\n",
       "        text-align: right;\n",
       "    }\n",
       "</style>\n",
       "<table border=\"1\" class=\"dataframe\">\n",
       "  <thead>\n",
       "    <tr style=\"text-align: right;\">\n",
       "      <th></th>\n",
       "      <th>type</th>\n",
       "      <th>dt</th>\n",
       "      <th>payload</th>\n",
       "    </tr>\n",
       "  </thead>\n",
       "  <tbody>\n",
       "    <tr>\n",
       "      <th>0</th>\n",
       "      <td>new_adsb</td>\n",
       "      <td>2025-01-31 00:00:00.330843</td>\n",
       "      <td>{'hex': 'ab35d3', 'flight': 'DAL136  ', 'alt_b...</td>\n",
       "    </tr>\n",
       "    <tr>\n",
       "      <th>1</th>\n",
       "      <td>new_adsb</td>\n",
       "      <td>2025-01-31 00:00:00.336607</td>\n",
       "      <td>{'hex': 'c03f37', 'flight': 'WJA598  ', 'alt_b...</td>\n",
       "    </tr>\n",
       "    <tr>\n",
       "      <th>2</th>\n",
       "      <td>new_adsb</td>\n",
       "      <td>2025-01-31 00:00:00.336872</td>\n",
       "      <td>{'hex': 'c06a75', 'flight': 'TSC359  ', 'alt_b...</td>\n",
       "    </tr>\n",
       "    <tr>\n",
       "      <th>3</th>\n",
       "      <td>new_adsb</td>\n",
       "      <td>2025-01-31 00:00:00.337039</td>\n",
       "      <td>{'hex': 'c078ba', 'flight': 'TSC939  ', 'alt_b...</td>\n",
       "    </tr>\n",
       "    <tr>\n",
       "      <th>4</th>\n",
       "      <td>new_adsb</td>\n",
       "      <td>2025-01-31 00:00:00.337196</td>\n",
       "      <td>{'hex': 'c027da', 'flight': 'CJT990  ', 'alt_b...</td>\n",
       "    </tr>\n",
       "  </tbody>\n",
       "</table>\n",
       "</div>"
      ],
      "text/plain": [
       "       type                          dt  \\\n",
       "0  new_adsb  2025-01-31 00:00:00.330843   \n",
       "1  new_adsb  2025-01-31 00:00:00.336607   \n",
       "2  new_adsb  2025-01-31 00:00:00.336872   \n",
       "3  new_adsb  2025-01-31 00:00:00.337039   \n",
       "4  new_adsb  2025-01-31 00:00:00.337196   \n",
       "\n",
       "                                             payload  \n",
       "0  {'hex': 'ab35d3', 'flight': 'DAL136  ', 'alt_b...  \n",
       "1  {'hex': 'c03f37', 'flight': 'WJA598  ', 'alt_b...  \n",
       "2  {'hex': 'c06a75', 'flight': 'TSC359  ', 'alt_b...  \n",
       "3  {'hex': 'c078ba', 'flight': 'TSC939  ', 'alt_b...  \n",
       "4  {'hex': 'c027da', 'flight': 'CJT990  ', 'alt_b...  "
      ]
     },
     "execution_count": 14,
     "metadata": {},
     "output_type": "execute_result"
    }
   ],
   "source": [
    "print(df_pandas.shape)\n",
    "df_pandas.head()"
   ]
  },
  {
   "cell_type": "code",
   "execution_count": 15,
   "metadata": {},
   "outputs": [
    {
     "name": "stdout",
     "output_type": "stream",
     "text": [
      "(1829647, 41)\n"
     ]
    }
   ],
   "source": [
    "pandas_df = pd.json_normalize(df_pandas['payload'])\n",
    "print(pandas_df.shape)"
   ]
  },
  {
   "cell_type": "markdown",
   "metadata": {},
   "source": [
    "## Normalising the dataset took around 50 secs"
   ]
  },
  {
   "cell_type": "code",
   "execution_count": 16,
   "metadata": {},
   "outputs": [
    {
     "data": {
      "text/html": [
       "<div>\n",
       "<style scoped>\n",
       "    .dataframe tbody tr th:only-of-type {\n",
       "        vertical-align: middle;\n",
       "    }\n",
       "\n",
       "    .dataframe tbody tr th {\n",
       "        vertical-align: top;\n",
       "    }\n",
       "\n",
       "    .dataframe thead th {\n",
       "        text-align: right;\n",
       "    }\n",
       "</style>\n",
       "<table border=\"1\" class=\"dataframe\">\n",
       "  <thead>\n",
       "    <tr style=\"text-align: right;\">\n",
       "      <th></th>\n",
       "      <th>hex</th>\n",
       "      <th>flight</th>\n",
       "      <th>alt_baro</th>\n",
       "      <th>alt_geom</th>\n",
       "      <th>gs</th>\n",
       "      <th>track</th>\n",
       "      <th>baro_rate</th>\n",
       "      <th>squawk</th>\n",
       "      <th>emergency</th>\n",
       "      <th>category</th>\n",
       "      <th>...</th>\n",
       "      <th>nav_modes</th>\n",
       "      <th>geom_rate</th>\n",
       "      <th>nav_altitude_fms</th>\n",
       "      <th>tas</th>\n",
       "      <th>mag_heading</th>\n",
       "      <th>true_heading</th>\n",
       "      <th>ias</th>\n",
       "      <th>mach</th>\n",
       "      <th>track_rate</th>\n",
       "      <th>roll</th>\n",
       "    </tr>\n",
       "  </thead>\n",
       "  <tbody>\n",
       "    <tr>\n",
       "      <th>0</th>\n",
       "      <td>ab35d3</td>\n",
       "      <td>DAL136</td>\n",
       "      <td>37000</td>\n",
       "      <td>36475.0</td>\n",
       "      <td>552.7</td>\n",
       "      <td>41.3</td>\n",
       "      <td>0.0</td>\n",
       "      <td>5740</td>\n",
       "      <td>none</td>\n",
       "      <td>A5</td>\n",
       "      <td>...</td>\n",
       "      <td>NaN</td>\n",
       "      <td>NaN</td>\n",
       "      <td>NaN</td>\n",
       "      <td>NaN</td>\n",
       "      <td>NaN</td>\n",
       "      <td>NaN</td>\n",
       "      <td>NaN</td>\n",
       "      <td>NaN</td>\n",
       "      <td>NaN</td>\n",
       "      <td>NaN</td>\n",
       "    </tr>\n",
       "    <tr>\n",
       "      <th>1</th>\n",
       "      <td>c03f37</td>\n",
       "      <td>WJA598</td>\n",
       "      <td>23925</td>\n",
       "      <td>23325.0</td>\n",
       "      <td>352.3</td>\n",
       "      <td>22.7</td>\n",
       "      <td>-960.0</td>\n",
       "      <td>0512</td>\n",
       "      <td>none</td>\n",
       "      <td>A3</td>\n",
       "      <td>...</td>\n",
       "      <td>NaN</td>\n",
       "      <td>NaN</td>\n",
       "      <td>NaN</td>\n",
       "      <td>NaN</td>\n",
       "      <td>NaN</td>\n",
       "      <td>NaN</td>\n",
       "      <td>NaN</td>\n",
       "      <td>NaN</td>\n",
       "      <td>NaN</td>\n",
       "      <td>NaN</td>\n",
       "    </tr>\n",
       "    <tr>\n",
       "      <th>2</th>\n",
       "      <td>c06a75</td>\n",
       "      <td>TSC359</td>\n",
       "      <td>24725</td>\n",
       "      <td>24125.0</td>\n",
       "      <td>482.7</td>\n",
       "      <td>47.5</td>\n",
       "      <td>-1856.0</td>\n",
       "      <td>1541</td>\n",
       "      <td>none</td>\n",
       "      <td>A3</td>\n",
       "      <td>...</td>\n",
       "      <td>NaN</td>\n",
       "      <td>NaN</td>\n",
       "      <td>NaN</td>\n",
       "      <td>NaN</td>\n",
       "      <td>NaN</td>\n",
       "      <td>NaN</td>\n",
       "      <td>NaN</td>\n",
       "      <td>NaN</td>\n",
       "      <td>NaN</td>\n",
       "      <td>NaN</td>\n",
       "    </tr>\n",
       "    <tr>\n",
       "      <th>3</th>\n",
       "      <td>c078ba</td>\n",
       "      <td>TSC939</td>\n",
       "      <td>15175</td>\n",
       "      <td>14600.0</td>\n",
       "      <td>420.6</td>\n",
       "      <td>48.1</td>\n",
       "      <td>-2944.0</td>\n",
       "      <td>6107</td>\n",
       "      <td>none</td>\n",
       "      <td>A5</td>\n",
       "      <td>...</td>\n",
       "      <td>NaN</td>\n",
       "      <td>NaN</td>\n",
       "      <td>NaN</td>\n",
       "      <td>NaN</td>\n",
       "      <td>NaN</td>\n",
       "      <td>NaN</td>\n",
       "      <td>NaN</td>\n",
       "      <td>NaN</td>\n",
       "      <td>NaN</td>\n",
       "      <td>NaN</td>\n",
       "    </tr>\n",
       "    <tr>\n",
       "      <th>4</th>\n",
       "      <td>c027da</td>\n",
       "      <td>CJT990</td>\n",
       "      <td>30000</td>\n",
       "      <td>29450.0</td>\n",
       "      <td>343.8</td>\n",
       "      <td>229.1</td>\n",
       "      <td>0.0</td>\n",
       "      <td>0630</td>\n",
       "      <td>none</td>\n",
       "      <td>A5</td>\n",
       "      <td>...</td>\n",
       "      <td>NaN</td>\n",
       "      <td>NaN</td>\n",
       "      <td>NaN</td>\n",
       "      <td>NaN</td>\n",
       "      <td>NaN</td>\n",
       "      <td>NaN</td>\n",
       "      <td>NaN</td>\n",
       "      <td>NaN</td>\n",
       "      <td>NaN</td>\n",
       "      <td>NaN</td>\n",
       "    </tr>\n",
       "  </tbody>\n",
       "</table>\n",
       "<p>5 rows × 41 columns</p>\n",
       "</div>"
      ],
      "text/plain": [
       "      hex    flight alt_baro  alt_geom     gs  track  baro_rate squawk  \\\n",
       "0  ab35d3  DAL136      37000   36475.0  552.7   41.3        0.0   5740   \n",
       "1  c03f37  WJA598      23925   23325.0  352.3   22.7     -960.0   0512   \n",
       "2  c06a75  TSC359      24725   24125.0  482.7   47.5    -1856.0   1541   \n",
       "3  c078ba  TSC939      15175   14600.0  420.6   48.1    -2944.0   6107   \n",
       "4  c027da  CJT990      30000   29450.0  343.8  229.1        0.0   0630   \n",
       "\n",
       "  emergency category  ...  nav_modes  geom_rate  nav_altitude_fms  tas  \\\n",
       "0      none       A5  ...        NaN        NaN               NaN  NaN   \n",
       "1      none       A3  ...        NaN        NaN               NaN  NaN   \n",
       "2      none       A3  ...        NaN        NaN               NaN  NaN   \n",
       "3      none       A5  ...        NaN        NaN               NaN  NaN   \n",
       "4      none       A5  ...        NaN        NaN               NaN  NaN   \n",
       "\n",
       "   mag_heading  true_heading  ias  mach  track_rate  roll  \n",
       "0          NaN           NaN  NaN   NaN         NaN   NaN  \n",
       "1          NaN           NaN  NaN   NaN         NaN   NaN  \n",
       "2          NaN           NaN  NaN   NaN         NaN   NaN  \n",
       "3          NaN           NaN  NaN   NaN         NaN   NaN  \n",
       "4          NaN           NaN  NaN   NaN         NaN   NaN  \n",
       "\n",
       "[5 rows x 41 columns]"
      ]
     },
     "execution_count": 16,
     "metadata": {},
     "output_type": "execute_result"
    }
   ],
   "source": [
    "pandas_df.head()"
   ]
  },
  {
   "cell_type": "code",
   "execution_count": 17,
   "metadata": {},
   "outputs": [
    {
     "data": {
      "text/html": [
       "<div>\n",
       "<style scoped>\n",
       "    .dataframe tbody tr th:only-of-type {\n",
       "        vertical-align: middle;\n",
       "    }\n",
       "\n",
       "    .dataframe tbody tr th {\n",
       "        vertical-align: top;\n",
       "    }\n",
       "\n",
       "    .dataframe thead th {\n",
       "        text-align: right;\n",
       "    }\n",
       "</style>\n",
       "<table border=\"1\" class=\"dataframe\">\n",
       "  <thead>\n",
       "    <tr style=\"text-align: right;\">\n",
       "      <th></th>\n",
       "      <th>dt</th>\n",
       "      <th>hex</th>\n",
       "      <th>flight</th>\n",
       "      <th>alt_baro</th>\n",
       "      <th>alt_geom</th>\n",
       "      <th>gs</th>\n",
       "      <th>track</th>\n",
       "      <th>baro_rate</th>\n",
       "      <th>squawk</th>\n",
       "      <th>emergency</th>\n",
       "      <th>...</th>\n",
       "      <th>nav_modes</th>\n",
       "      <th>geom_rate</th>\n",
       "      <th>nav_altitude_fms</th>\n",
       "      <th>tas</th>\n",
       "      <th>mag_heading</th>\n",
       "      <th>true_heading</th>\n",
       "      <th>ias</th>\n",
       "      <th>mach</th>\n",
       "      <th>track_rate</th>\n",
       "      <th>roll</th>\n",
       "    </tr>\n",
       "  </thead>\n",
       "  <tbody>\n",
       "    <tr>\n",
       "      <th>0</th>\n",
       "      <td>2025-01-31 00:00:00.330843</td>\n",
       "      <td>ab35d3</td>\n",
       "      <td>DAL136</td>\n",
       "      <td>37000</td>\n",
       "      <td>36475.0</td>\n",
       "      <td>552.7</td>\n",
       "      <td>41.3</td>\n",
       "      <td>0.0</td>\n",
       "      <td>5740</td>\n",
       "      <td>none</td>\n",
       "      <td>...</td>\n",
       "      <td>NaN</td>\n",
       "      <td>NaN</td>\n",
       "      <td>NaN</td>\n",
       "      <td>NaN</td>\n",
       "      <td>NaN</td>\n",
       "      <td>NaN</td>\n",
       "      <td>NaN</td>\n",
       "      <td>NaN</td>\n",
       "      <td>NaN</td>\n",
       "      <td>NaN</td>\n",
       "    </tr>\n",
       "    <tr>\n",
       "      <th>1</th>\n",
       "      <td>2025-01-31 00:00:00.336607</td>\n",
       "      <td>c03f37</td>\n",
       "      <td>WJA598</td>\n",
       "      <td>23925</td>\n",
       "      <td>23325.0</td>\n",
       "      <td>352.3</td>\n",
       "      <td>22.7</td>\n",
       "      <td>-960.0</td>\n",
       "      <td>0512</td>\n",
       "      <td>none</td>\n",
       "      <td>...</td>\n",
       "      <td>NaN</td>\n",
       "      <td>NaN</td>\n",
       "      <td>NaN</td>\n",
       "      <td>NaN</td>\n",
       "      <td>NaN</td>\n",
       "      <td>NaN</td>\n",
       "      <td>NaN</td>\n",
       "      <td>NaN</td>\n",
       "      <td>NaN</td>\n",
       "      <td>NaN</td>\n",
       "    </tr>\n",
       "    <tr>\n",
       "      <th>2</th>\n",
       "      <td>2025-01-31 00:00:00.336872</td>\n",
       "      <td>c06a75</td>\n",
       "      <td>TSC359</td>\n",
       "      <td>24725</td>\n",
       "      <td>24125.0</td>\n",
       "      <td>482.7</td>\n",
       "      <td>47.5</td>\n",
       "      <td>-1856.0</td>\n",
       "      <td>1541</td>\n",
       "      <td>none</td>\n",
       "      <td>...</td>\n",
       "      <td>NaN</td>\n",
       "      <td>NaN</td>\n",
       "      <td>NaN</td>\n",
       "      <td>NaN</td>\n",
       "      <td>NaN</td>\n",
       "      <td>NaN</td>\n",
       "      <td>NaN</td>\n",
       "      <td>NaN</td>\n",
       "      <td>NaN</td>\n",
       "      <td>NaN</td>\n",
       "    </tr>\n",
       "    <tr>\n",
       "      <th>3</th>\n",
       "      <td>2025-01-31 00:00:00.337039</td>\n",
       "      <td>c078ba</td>\n",
       "      <td>TSC939</td>\n",
       "      <td>15175</td>\n",
       "      <td>14600.0</td>\n",
       "      <td>420.6</td>\n",
       "      <td>48.1</td>\n",
       "      <td>-2944.0</td>\n",
       "      <td>6107</td>\n",
       "      <td>none</td>\n",
       "      <td>...</td>\n",
       "      <td>NaN</td>\n",
       "      <td>NaN</td>\n",
       "      <td>NaN</td>\n",
       "      <td>NaN</td>\n",
       "      <td>NaN</td>\n",
       "      <td>NaN</td>\n",
       "      <td>NaN</td>\n",
       "      <td>NaN</td>\n",
       "      <td>NaN</td>\n",
       "      <td>NaN</td>\n",
       "    </tr>\n",
       "    <tr>\n",
       "      <th>4</th>\n",
       "      <td>2025-01-31 00:00:00.337196</td>\n",
       "      <td>c027da</td>\n",
       "      <td>CJT990</td>\n",
       "      <td>30000</td>\n",
       "      <td>29450.0</td>\n",
       "      <td>343.8</td>\n",
       "      <td>229.1</td>\n",
       "      <td>0.0</td>\n",
       "      <td>0630</td>\n",
       "      <td>none</td>\n",
       "      <td>...</td>\n",
       "      <td>NaN</td>\n",
       "      <td>NaN</td>\n",
       "      <td>NaN</td>\n",
       "      <td>NaN</td>\n",
       "      <td>NaN</td>\n",
       "      <td>NaN</td>\n",
       "      <td>NaN</td>\n",
       "      <td>NaN</td>\n",
       "      <td>NaN</td>\n",
       "      <td>NaN</td>\n",
       "    </tr>\n",
       "  </tbody>\n",
       "</table>\n",
       "<p>5 rows × 42 columns</p>\n",
       "</div>"
      ],
      "text/plain": [
       "                           dt     hex    flight alt_baro  alt_geom     gs  \\\n",
       "0  2025-01-31 00:00:00.330843  ab35d3  DAL136      37000   36475.0  552.7   \n",
       "1  2025-01-31 00:00:00.336607  c03f37  WJA598      23925   23325.0  352.3   \n",
       "2  2025-01-31 00:00:00.336872  c06a75  TSC359      24725   24125.0  482.7   \n",
       "3  2025-01-31 00:00:00.337039  c078ba  TSC939      15175   14600.0  420.6   \n",
       "4  2025-01-31 00:00:00.337196  c027da  CJT990      30000   29450.0  343.8   \n",
       "\n",
       "   track  baro_rate squawk emergency  ... nav_modes  geom_rate  \\\n",
       "0   41.3        0.0   5740      none  ...       NaN        NaN   \n",
       "1   22.7     -960.0   0512      none  ...       NaN        NaN   \n",
       "2   47.5    -1856.0   1541      none  ...       NaN        NaN   \n",
       "3   48.1    -2944.0   6107      none  ...       NaN        NaN   \n",
       "4  229.1        0.0   0630      none  ...       NaN        NaN   \n",
       "\n",
       "   nav_altitude_fms  tas  mag_heading  true_heading  ias  mach  track_rate  \\\n",
       "0               NaN  NaN          NaN           NaN  NaN   NaN         NaN   \n",
       "1               NaN  NaN          NaN           NaN  NaN   NaN         NaN   \n",
       "2               NaN  NaN          NaN           NaN  NaN   NaN         NaN   \n",
       "3               NaN  NaN          NaN           NaN  NaN   NaN         NaN   \n",
       "4               NaN  NaN          NaN           NaN  NaN   NaN         NaN   \n",
       "\n",
       "   roll  \n",
       "0   NaN  \n",
       "1   NaN  \n",
       "2   NaN  \n",
       "3   NaN  \n",
       "4   NaN  \n",
       "\n",
       "[5 rows x 42 columns]"
      ]
     },
     "execution_count": 17,
     "metadata": {},
     "output_type": "execute_result"
    }
   ],
   "source": [
    "pandas_df = df_pandas[['dt']].join(pandas_df)\n",
    "pandas_df.head()"
   ]
  },
  {
   "cell_type": "code",
   "execution_count": 18,
   "metadata": {},
   "outputs": [
    {
     "name": "stdout",
     "output_type": "stream",
     "text": [
      "This dataset has 1829647 rows and 42 columns\n"
     ]
    }
   ],
   "source": [
    "print(\"This dataset has {} rows and {} columns\".format(pandas_df.shape[0], pandas_df.shape[1]))"
   ]
  },
  {
   "cell_type": "markdown",
   "metadata": {},
   "source": [
    "## Trying the same with PySpark"
   ]
  },
  {
   "cell_type": "code",
   "execution_count": 2,
   "metadata": {},
   "outputs": [],
   "source": [
    "spark = SparkSession.builder \\\n",
    "    .appName(\"MyApp\") \\\n",
    "    .master(\"local[*]\") \\\n",
    "    .config(\"spark.ui.port\", \"4050\") \\\n",
    "    .getOrCreate()\n"
   ]
  },
  {
   "cell_type": "code",
   "execution_count": 8,
   "metadata": {},
   "outputs": [
    {
     "name": "stderr",
     "output_type": "stream",
     "text": [
      "<>:14: SyntaxWarning: invalid escape sequence '\\P'\n",
      "<>:15: SyntaxWarning: invalid escape sequence '\\P'\n",
      "<>:14: SyntaxWarning: invalid escape sequence '\\P'\n",
      "<>:15: SyntaxWarning: invalid escape sequence '\\P'\n",
      "C:\\Users\\raksh\\AppData\\Local\\Temp\\ipykernel_22596\\2579727867.py:14: SyntaxWarning: invalid escape sequence '\\P'\n",
      "  df_spark = spark.read.json(\"D:\\Project\\Spark_project\\combined_file.txt\")\n",
      "C:\\Users\\raksh\\AppData\\Local\\Temp\\ipykernel_22596\\2579727867.py:15: SyntaxWarning: invalid escape sequence '\\P'\n",
      "  df_spark_large = spark.read.json(\"D:\\Project\\Spark_project\\combined_file1.txt\")\n"
     ]
    }
   ],
   "source": [
    "## Boiler code to start spark session with APP name \" LoadExtractedData \" and Master \"local[*]\" with 4GB of memory \n",
    "## Rest other parameters are default as we are running in local mode\n",
    "from pyspark.sql import SparkSession    \n",
    "\n",
    "from pyspark.sql import SparkSession    \n",
    "\n",
    "spark = SparkSession.builder \\\n",
    "    .appName(\"LoadExtractedData\") \\\n",
    "    .master(\"local[*]\") \\\n",
    "    .config(\"spark.executor.memory\", \"4g\") \\\n",
    "    .getOrCreate()\n",
    "\n",
    "\n",
    "df_spark = spark.read.json(\"D:\\Project\\Spark_project\\combined_file.txt\")\n",
    "df_spark_large = spark.read.json(\"D:\\Project\\Spark_project\\combined_file1.txt\")\n"
   ]
  },
  {
   "cell_type": "markdown",
   "metadata": {},
   "source": [
    "## Here we can see that Spark has taken 25seconds to load 1 GB file as well as 10 GB file"
   ]
  },
  {
   "cell_type": "code",
   "execution_count": 6,
   "metadata": {},
   "outputs": [],
   "source": [
    "SparkSession.getActiveSession() and SparkSession.getActiveSession().stop()"
   ]
  },
  {
   "cell_type": "code",
   "execution_count": 9,
   "metadata": {},
   "outputs": [
    {
     "name": "stdout",
     "output_type": "stream",
     "text": [
      "Count in the dataframe is  1829647\n",
      "Count in the dataframe is  15509971\n"
     ]
    }
   ],
   "source": [
    "print(\"Count in the dataframe is \",df_spark.count())\n",
    "print(\"Count in the dataframe is \",df_spark_large.count())"
   ]
  },
  {
   "cell_type": "code",
   "execution_count": 16,
   "metadata": {},
   "outputs": [
    {
     "name": "stdout",
     "output_type": "stream",
     "text": [
      "root\n",
      " |-- dt: string (nullable = true)\n",
      " |-- payload: struct (nullable = true)\n",
      " |    |-- alt_baro: string (nullable = true)\n",
      " |    |-- alt_geom: long (nullable = true)\n",
      " |    |-- baro_rate: long (nullable = true)\n",
      " |    |-- category: string (nullable = true)\n",
      " |    |-- emergency: string (nullable = true)\n",
      " |    |-- flight: string (nullable = true)\n",
      " |    |-- geom_rate: long (nullable = true)\n",
      " |    |-- gs: double (nullable = true)\n",
      " |    |-- gva: long (nullable = true)\n",
      " |    |-- hex: string (nullable = true)\n",
      " |    |-- ias: long (nullable = true)\n",
      " |    |-- lat: double (nullable = true)\n",
      " |    |-- lon: double (nullable = true)\n",
      " |    |-- mach: double (nullable = true)\n",
      " |    |-- mag_heading: double (nullable = true)\n",
      " |    |-- messages: long (nullable = true)\n",
      " |    |-- mlat: array (nullable = true)\n",
      " |    |    |-- element: string (containsNull = true)\n",
      " |    |-- nac_p: long (nullable = true)\n",
      " |    |-- nac_v: long (nullable = true)\n",
      " |    |-- nav_altitude_fms: long (nullable = true)\n",
      " |    |-- nav_altitude_mcp: long (nullable = true)\n",
      " |    |-- nav_heading: double (nullable = true)\n",
      " |    |-- nav_modes: array (nullable = true)\n",
      " |    |    |-- element: string (containsNull = true)\n",
      " |    |-- nav_qnh: double (nullable = true)\n",
      " |    |-- nic: long (nullable = true)\n",
      " |    |-- nic_baro: long (nullable = true)\n",
      " |    |-- rc: long (nullable = true)\n",
      " |    |-- roll: double (nullable = true)\n",
      " |    |-- rssi: double (nullable = true)\n",
      " |    |-- sda: long (nullable = true)\n",
      " |    |-- seen: double (nullable = true)\n",
      " |    |-- seen_pos: double (nullable = true)\n",
      " |    |-- sil: long (nullable = true)\n",
      " |    |-- sil_type: string (nullable = true)\n",
      " |    |-- squawk: string (nullable = true)\n",
      " |    |-- tas: long (nullable = true)\n",
      " |    |-- tisb: array (nullable = true)\n",
      " |    |    |-- element: string (containsNull = true)\n",
      " |    |-- track: double (nullable = true)\n",
      " |    |-- track_rate: double (nullable = true)\n",
      " |    |-- true_heading: double (nullable = true)\n",
      " |    |-- version: long (nullable = true)\n",
      " |-- type: string (nullable = true)\n",
      "\n",
      "Schema of the dataframe is  None\n"
     ]
    }
   ],
   "source": [
    "print(\"Schema of the dataframe is \",df_spark.printSchema())"
   ]
  },
  {
   "cell_type": "code",
   "execution_count": 1,
   "metadata": {},
   "outputs": [
    {
     "ename": "NameError",
     "evalue": "name 'df_spark' is not defined",
     "output_type": "error",
     "traceback": [
      "\u001b[1;31m---------------------------------------------------------------------------\u001b[0m",
      "\u001b[1;31mNameError\u001b[0m                                 Traceback (most recent call last)",
      "Cell \u001b[1;32mIn[1], line 3\u001b[0m\n\u001b[0;32m      1\u001b[0m \u001b[38;5;28;01mfrom\u001b[39;00m \u001b[38;5;21;01mpyspark\u001b[39;00m\u001b[38;5;21;01m.\u001b[39;00m\u001b[38;5;21;01msql\u001b[39;00m\u001b[38;5;21;01m.\u001b[39;00m\u001b[38;5;21;01mfunctions\u001b[39;00m \u001b[38;5;28;01mimport\u001b[39;00m col, to_date\n\u001b[1;32m----> 3\u001b[0m flattened_df \u001b[38;5;241m=\u001b[39m \u001b[43mdf_spark\u001b[49m\u001b[38;5;241m.\u001b[39mselect(\n\u001b[0;32m      4\u001b[0m     col(\u001b[38;5;124m\"\u001b[39m\u001b[38;5;124mtype\u001b[39m\u001b[38;5;124m\"\u001b[39m)\u001b[38;5;241m.\u001b[39malias(\u001b[38;5;124m\"\u001b[39m\u001b[38;5;124mType\u001b[39m\u001b[38;5;124m\"\u001b[39m),\n\u001b[0;32m      5\u001b[0m     col(\u001b[38;5;124m\"\u001b[39m\u001b[38;5;124mdt\u001b[39m\u001b[38;5;124m\"\u001b[39m)\u001b[38;5;241m.\u001b[39malias(\u001b[38;5;124m\"\u001b[39m\u001b[38;5;124mDT\u001b[39m\u001b[38;5;124m\"\u001b[39m),\n\u001b[0;32m      6\u001b[0m     col(\u001b[38;5;124m\"\u001b[39m\u001b[38;5;124mpayload.hex\u001b[39m\u001b[38;5;124m\"\u001b[39m)\u001b[38;5;241m.\u001b[39malias(\u001b[38;5;124m\"\u001b[39m\u001b[38;5;124mHexID\u001b[39m\u001b[38;5;124m\"\u001b[39m),\n\u001b[0;32m      7\u001b[0m     col(\u001b[38;5;124m\"\u001b[39m\u001b[38;5;124mpayload.flight\u001b[39m\u001b[38;5;124m\"\u001b[39m)\u001b[38;5;241m.\u001b[39malias(\u001b[38;5;124m\"\u001b[39m\u001b[38;5;124mFlightNumber\u001b[39m\u001b[38;5;124m\"\u001b[39m),\n\u001b[0;32m      8\u001b[0m     col(\u001b[38;5;124m\"\u001b[39m\u001b[38;5;124mpayload.alt_baro\u001b[39m\u001b[38;5;124m\"\u001b[39m)\u001b[38;5;241m.\u001b[39malias(\u001b[38;5;124m\"\u001b[39m\u001b[38;5;124mAltBaro\u001b[39m\u001b[38;5;124m\"\u001b[39m),\n\u001b[0;32m      9\u001b[0m     col(\u001b[38;5;124m\"\u001b[39m\u001b[38;5;124mpayload.alt_geom\u001b[39m\u001b[38;5;124m\"\u001b[39m)\u001b[38;5;241m.\u001b[39malias(\u001b[38;5;124m\"\u001b[39m\u001b[38;5;124mAltGeom\u001b[39m\u001b[38;5;124m\"\u001b[39m),\n\u001b[0;32m     10\u001b[0m     col(\u001b[38;5;124m\"\u001b[39m\u001b[38;5;124mpayload.gs\u001b[39m\u001b[38;5;124m\"\u001b[39m)\u001b[38;5;241m.\u001b[39malias(\u001b[38;5;124m\"\u001b[39m\u001b[38;5;124mGroundSpeed\u001b[39m\u001b[38;5;124m\"\u001b[39m),\n\u001b[0;32m     11\u001b[0m     col(\u001b[38;5;124m\"\u001b[39m\u001b[38;5;124mpayload.track\u001b[39m\u001b[38;5;124m\"\u001b[39m)\u001b[38;5;241m.\u001b[39malias(\u001b[38;5;124m\"\u001b[39m\u001b[38;5;124mTrack\u001b[39m\u001b[38;5;124m\"\u001b[39m),\n\u001b[0;32m     12\u001b[0m     col(\u001b[38;5;124m\"\u001b[39m\u001b[38;5;124mpayload.baro_rate\u001b[39m\u001b[38;5;124m\"\u001b[39m)\u001b[38;5;241m.\u001b[39malias(\u001b[38;5;124m\"\u001b[39m\u001b[38;5;124mBaroRate\u001b[39m\u001b[38;5;124m\"\u001b[39m),\n\u001b[0;32m     13\u001b[0m     col(\u001b[38;5;124m\"\u001b[39m\u001b[38;5;124mpayload.squawk\u001b[39m\u001b[38;5;124m\"\u001b[39m)\u001b[38;5;241m.\u001b[39malias(\u001b[38;5;124m\"\u001b[39m\u001b[38;5;124mSquawk\u001b[39m\u001b[38;5;124m\"\u001b[39m),\n\u001b[0;32m     14\u001b[0m     col(\u001b[38;5;124m\"\u001b[39m\u001b[38;5;124mpayload.emergency\u001b[39m\u001b[38;5;124m\"\u001b[39m)\u001b[38;5;241m.\u001b[39malias(\u001b[38;5;124m\"\u001b[39m\u001b[38;5;124mEmergency\u001b[39m\u001b[38;5;124m\"\u001b[39m),\n\u001b[0;32m     15\u001b[0m     col(\u001b[38;5;124m\"\u001b[39m\u001b[38;5;124mpayload.category\u001b[39m\u001b[38;5;124m\"\u001b[39m)\u001b[38;5;241m.\u001b[39malias(\u001b[38;5;124m\"\u001b[39m\u001b[38;5;124mCategory\u001b[39m\u001b[38;5;124m\"\u001b[39m),\n\u001b[0;32m     16\u001b[0m     col(\u001b[38;5;124m\"\u001b[39m\u001b[38;5;124mpayload.nav_qnh\u001b[39m\u001b[38;5;124m\"\u001b[39m)\u001b[38;5;241m.\u001b[39malias(\u001b[38;5;124m\"\u001b[39m\u001b[38;5;124mNavQNH\u001b[39m\u001b[38;5;124m\"\u001b[39m),\n\u001b[0;32m     17\u001b[0m     col(\u001b[38;5;124m\"\u001b[39m\u001b[38;5;124mpayload.nav_altitude_mcp\u001b[39m\u001b[38;5;124m\"\u001b[39m)\u001b[38;5;241m.\u001b[39malias(\u001b[38;5;124m\"\u001b[39m\u001b[38;5;124mNavAltitudeMCP\u001b[39m\u001b[38;5;124m\"\u001b[39m),\n\u001b[0;32m     18\u001b[0m     col(\u001b[38;5;124m\"\u001b[39m\u001b[38;5;124mpayload.nav_heading\u001b[39m\u001b[38;5;124m\"\u001b[39m)\u001b[38;5;241m.\u001b[39malias(\u001b[38;5;124m\"\u001b[39m\u001b[38;5;124mNavHeading\u001b[39m\u001b[38;5;124m\"\u001b[39m),\n\u001b[0;32m     19\u001b[0m     col(\u001b[38;5;124m\"\u001b[39m\u001b[38;5;124mpayload.lat\u001b[39m\u001b[38;5;124m\"\u001b[39m)\u001b[38;5;241m.\u001b[39malias(\u001b[38;5;124m\"\u001b[39m\u001b[38;5;124mLatitude\u001b[39m\u001b[38;5;124m\"\u001b[39m),\n\u001b[0;32m     20\u001b[0m     col(\u001b[38;5;124m\"\u001b[39m\u001b[38;5;124mpayload.lon\u001b[39m\u001b[38;5;124m\"\u001b[39m)\u001b[38;5;241m.\u001b[39malias(\u001b[38;5;124m\"\u001b[39m\u001b[38;5;124mLongitude\u001b[39m\u001b[38;5;124m\"\u001b[39m),\n\u001b[0;32m     21\u001b[0m     col(\u001b[38;5;124m\"\u001b[39m\u001b[38;5;124mpayload.nic\u001b[39m\u001b[38;5;124m\"\u001b[39m)\u001b[38;5;241m.\u001b[39malias(\u001b[38;5;124m\"\u001b[39m\u001b[38;5;124mNIC\u001b[39m\u001b[38;5;124m\"\u001b[39m),\n\u001b[0;32m     22\u001b[0m     col(\u001b[38;5;124m\"\u001b[39m\u001b[38;5;124mpayload.rc\u001b[39m\u001b[38;5;124m\"\u001b[39m)\u001b[38;5;241m.\u001b[39malias(\u001b[38;5;124m\"\u001b[39m\u001b[38;5;124mRC\u001b[39m\u001b[38;5;124m\"\u001b[39m),\n\u001b[0;32m     23\u001b[0m     col(\u001b[38;5;124m\"\u001b[39m\u001b[38;5;124mpayload.seen_pos\u001b[39m\u001b[38;5;124m\"\u001b[39m)\u001b[38;5;241m.\u001b[39malias(\u001b[38;5;124m\"\u001b[39m\u001b[38;5;124mSeenPos\u001b[39m\u001b[38;5;124m\"\u001b[39m),\n\u001b[0;32m     24\u001b[0m     col(\u001b[38;5;124m\"\u001b[39m\u001b[38;5;124mpayload.version\u001b[39m\u001b[38;5;124m\"\u001b[39m)\u001b[38;5;241m.\u001b[39malias(\u001b[38;5;124m\"\u001b[39m\u001b[38;5;124mVersion\u001b[39m\u001b[38;5;124m\"\u001b[39m),\n\u001b[0;32m     25\u001b[0m     col(\u001b[38;5;124m\"\u001b[39m\u001b[38;5;124mpayload.nic_baro\u001b[39m\u001b[38;5;124m\"\u001b[39m)\u001b[38;5;241m.\u001b[39malias(\u001b[38;5;124m\"\u001b[39m\u001b[38;5;124mNICBaro\u001b[39m\u001b[38;5;124m\"\u001b[39m),\n\u001b[0;32m     26\u001b[0m     col(\u001b[38;5;124m\"\u001b[39m\u001b[38;5;124mpayload.nac_p\u001b[39m\u001b[38;5;124m\"\u001b[39m)\u001b[38;5;241m.\u001b[39malias(\u001b[38;5;124m\"\u001b[39m\u001b[38;5;124mNAC_P\u001b[39m\u001b[38;5;124m\"\u001b[39m),\n\u001b[0;32m     27\u001b[0m     col(\u001b[38;5;124m\"\u001b[39m\u001b[38;5;124mpayload.nac_v\u001b[39m\u001b[38;5;124m\"\u001b[39m)\u001b[38;5;241m.\u001b[39malias(\u001b[38;5;124m\"\u001b[39m\u001b[38;5;124mNAC_V\u001b[39m\u001b[38;5;124m\"\u001b[39m),\n\u001b[0;32m     28\u001b[0m     col(\u001b[38;5;124m\"\u001b[39m\u001b[38;5;124mpayload.sil\u001b[39m\u001b[38;5;124m\"\u001b[39m)\u001b[38;5;241m.\u001b[39malias(\u001b[38;5;124m\"\u001b[39m\u001b[38;5;124mSIL\u001b[39m\u001b[38;5;124m\"\u001b[39m),\n\u001b[0;32m     29\u001b[0m     col(\u001b[38;5;124m\"\u001b[39m\u001b[38;5;124mpayload.sil_type\u001b[39m\u001b[38;5;124m\"\u001b[39m)\u001b[38;5;241m.\u001b[39malias(\u001b[38;5;124m\"\u001b[39m\u001b[38;5;124mSIL_Type\u001b[39m\u001b[38;5;124m\"\u001b[39m),\n\u001b[0;32m     30\u001b[0m     col(\u001b[38;5;124m\"\u001b[39m\u001b[38;5;124mpayload.gva\u001b[39m\u001b[38;5;124m\"\u001b[39m)\u001b[38;5;241m.\u001b[39malias(\u001b[38;5;124m\"\u001b[39m\u001b[38;5;124mGVA\u001b[39m\u001b[38;5;124m\"\u001b[39m),\n\u001b[0;32m     31\u001b[0m     col(\u001b[38;5;124m\"\u001b[39m\u001b[38;5;124mpayload.sda\u001b[39m\u001b[38;5;124m\"\u001b[39m)\u001b[38;5;241m.\u001b[39malias(\u001b[38;5;124m\"\u001b[39m\u001b[38;5;124mSDA\u001b[39m\u001b[38;5;124m\"\u001b[39m),\n\u001b[0;32m     32\u001b[0m     col(\u001b[38;5;124m\"\u001b[39m\u001b[38;5;124mpayload.mlat\u001b[39m\u001b[38;5;124m\"\u001b[39m)\u001b[38;5;241m.\u001b[39malias(\u001b[38;5;124m\"\u001b[39m\u001b[38;5;124mMLAT\u001b[39m\u001b[38;5;124m\"\u001b[39m),\n\u001b[0;32m     33\u001b[0m     col(\u001b[38;5;124m\"\u001b[39m\u001b[38;5;124mpayload.tisb\u001b[39m\u001b[38;5;124m\"\u001b[39m)\u001b[38;5;241m.\u001b[39malias(\u001b[38;5;124m\"\u001b[39m\u001b[38;5;124mTISB\u001b[39m\u001b[38;5;124m\"\u001b[39m),\n\u001b[0;32m     34\u001b[0m     col(\u001b[38;5;124m\"\u001b[39m\u001b[38;5;124mpayload.messages\u001b[39m\u001b[38;5;124m\"\u001b[39m)\u001b[38;5;241m.\u001b[39malias(\u001b[38;5;124m\"\u001b[39m\u001b[38;5;124mMessages\u001b[39m\u001b[38;5;124m\"\u001b[39m),\n\u001b[0;32m     35\u001b[0m     col(\u001b[38;5;124m\"\u001b[39m\u001b[38;5;124mpayload.seen\u001b[39m\u001b[38;5;124m\"\u001b[39m)\u001b[38;5;241m.\u001b[39malias(\u001b[38;5;124m\"\u001b[39m\u001b[38;5;124mSeen\u001b[39m\u001b[38;5;124m\"\u001b[39m),\n\u001b[0;32m     36\u001b[0m     col(\u001b[38;5;124m\"\u001b[39m\u001b[38;5;124mpayload.rssi\u001b[39m\u001b[38;5;124m\"\u001b[39m)\u001b[38;5;241m.\u001b[39malias(\u001b[38;5;124m\"\u001b[39m\u001b[38;5;124mRSSI\u001b[39m\u001b[38;5;124m\"\u001b[39m)\n\u001b[0;32m     37\u001b[0m )\n\u001b[0;32m     39\u001b[0m flattened_df\u001b[38;5;241m.\u001b[39mprintSchema()\n\u001b[0;32m     40\u001b[0m flattened_df\u001b[38;5;241m.\u001b[39mshow(\u001b[38;5;241m5\u001b[39m, truncate\u001b[38;5;241m=\u001b[39m\u001b[38;5;28;01mFalse\u001b[39;00m)\n",
      "\u001b[1;31mNameError\u001b[0m: name 'df_spark' is not defined"
     ]
    }
   ],
   "source": [
    "from pyspark.sql.functions import col, to_date\n",
    "\n",
    "flattened_df = df_spark.select(\n",
    "    col(\"type\").alias(\"Type\"),\n",
    "    col(\"dt\").alias(\"DT\"),\n",
    "    col(\"payload.hex\").alias(\"HexID\"),\n",
    "    col(\"payload.flight\").alias(\"FlightNumber\"),\n",
    "    col(\"payload.alt_baro\").alias(\"AltBaro\"),\n",
    "    col(\"payload.alt_geom\").alias(\"AltGeom\"),\n",
    "    col(\"payload.gs\").alias(\"GroundSpeed\"),\n",
    "    col(\"payload.track\").alias(\"Track\"),\n",
    "    col(\"payload.baro_rate\").alias(\"BaroRate\"),\n",
    "    col(\"payload.squawk\").alias(\"Squawk\"),\n",
    "    col(\"payload.emergency\").alias(\"Emergency\"),\n",
    "    col(\"payload.category\").alias(\"Category\"),\n",
    "    col(\"payload.nav_qnh\").alias(\"NavQNH\"),\n",
    "    col(\"payload.nav_altitude_mcp\").alias(\"NavAltitudeMCP\"),\n",
    "    col(\"payload.nav_heading\").alias(\"NavHeading\"),\n",
    "    col(\"payload.lat\").alias(\"Latitude\"),\n",
    "    col(\"payload.lon\").alias(\"Longitude\"),\n",
    "    col(\"payload.nic\").alias(\"NIC\"),\n",
    "    col(\"payload.rc\").alias(\"RC\"),\n",
    "    col(\"payload.seen_pos\").alias(\"SeenPos\"),\n",
    "    col(\"payload.version\").alias(\"Version\"),\n",
    "    col(\"payload.nic_baro\").alias(\"NICBaro\"),\n",
    "    col(\"payload.nac_p\").alias(\"NAC_P\"),\n",
    "    col(\"payload.nac_v\").alias(\"NAC_V\"),\n",
    "    col(\"payload.sil\").alias(\"SIL\"),\n",
    "    col(\"payload.sil_type\").alias(\"SIL_Type\"),\n",
    "    col(\"payload.gva\").alias(\"GVA\"),\n",
    "    col(\"payload.sda\").alias(\"SDA\"),\n",
    "    col(\"payload.mlat\").alias(\"MLAT\"),\n",
    "    col(\"payload.tisb\").alias(\"TISB\"),\n",
    "    col(\"payload.messages\").alias(\"Messages\"),\n",
    "    col(\"payload.seen\").alias(\"Seen\"),\n",
    "    col(\"payload.rssi\").alias(\"RSSI\")\n",
    ")\n",
    "\n",
    "flattened_df.printSchema()\n",
    "flattened_df.show(5, truncate=False)\n",
    "\n",
    "\n"
   ]
  },
  {
   "cell_type": "code",
   "execution_count": 39,
   "metadata": {},
   "outputs": [
    {
     "name": "stdout",
     "output_type": "stream",
     "text": [
      "root\n",
      " |-- Type: string (nullable = true)\n",
      " |-- DT: string (nullable = true)\n",
      " |-- HexID: string (nullable = true)\n",
      " |-- FlightNumber: string (nullable = true)\n",
      " |-- AltBaro: integer (nullable = true)\n",
      " |-- AltGeom: integer (nullable = true)\n",
      " |-- GroundSpeed: float (nullable = true)\n",
      " |-- Track: float (nullable = true)\n",
      " |-- BaroRate: integer (nullable = true)\n",
      " |-- Squawk: string (nullable = true)\n",
      " |-- Emergency: string (nullable = true)\n",
      " |-- Category: string (nullable = true)\n",
      " |-- NavQNH: float (nullable = true)\n",
      " |-- NavAltitudeMCP: integer (nullable = true)\n",
      " |-- NavHeading: float (nullable = true)\n",
      " |-- Latitude: float (nullable = true)\n",
      " |-- Longitude: float (nullable = true)\n",
      " |-- NIC: integer (nullable = true)\n",
      " |-- RC: integer (nullable = true)\n",
      " |-- SeenPos: float (nullable = true)\n",
      " |-- Version: integer (nullable = true)\n",
      " |-- NICBaro: integer (nullable = true)\n",
      " |-- NAC_P: integer (nullable = true)\n",
      " |-- NAC_V: integer (nullable = true)\n",
      " |-- SIL: integer (nullable = true)\n",
      " |-- SIL_Type: string (nullable = true)\n",
      " |-- GVA: integer (nullable = true)\n",
      " |-- SDA: integer (nullable = true)\n",
      " |-- MLAT: array (nullable = true)\n",
      " |    |-- element: string (containsNull = true)\n",
      " |-- TISB: array (nullable = true)\n",
      " |    |-- element: string (containsNull = true)\n",
      " |-- Messages: integer (nullable = true)\n",
      " |-- Seen: float (nullable = true)\n",
      " |-- RSSI: float (nullable = true)\n",
      "\n",
      "+--------+--------------------------+------+------------+-------+-------+-----------+-----+--------+------+---------+--------+------+--------------+----------+---------+----------+---+---+-------+-------+-------+-----+-----+---+--------+---+---+----+----+--------+----+-----+\n",
      "|Type    |DT                        |HexID |FlightNumber|AltBaro|AltGeom|GroundSpeed|Track|BaroRate|Squawk|Emergency|Category|NavQNH|NavAltitudeMCP|NavHeading|Latitude |Longitude |NIC|RC |SeenPos|Version|NICBaro|NAC_P|NAC_V|SIL|SIL_Type|GVA|SDA|MLAT|TISB|Messages|Seen|RSSI |\n",
      "+--------+--------------------------+------+------------+-------+-------+-----------+-----+--------+------+---------+--------+------+--------------+----------+---------+----------+---+---+-------+-------+-------+-----+-----+---+--------+---+---+----+----+--------+----+-----+\n",
      "|new_adsb|2024-11-05 00:00:00.927706|407799|BAW19W      |39000  |40275  |537.8      |66.4 |0       |3405  |none     |A5      |1013.6|39008         |73.1      |44.1487  |-74.63974 |8  |186|0.1    |2      |1      |10   |2    |3  |perhour |2  |2  |[]  |[]  |2720    |0.1 |-15.4|\n",
      "|new_adsb|2024-11-05 00:00:00.931604|c045a7|00000000    |36000  |37050  |384.0      |248.0|-64     |0655  |NULL     |A3      |1013.6|36000         |265.1     |45.296165|-76.085075|8  |186|0.2    |2      |1      |10   |1    |3  |perhour |2  |2  |[]  |[]  |1220    |0.1 |-22.3|\n",
      "|new_adsb|2024-11-05 00:00:00.931786|c00ebb|CJT626      |11525  |11850  |430.0      |51.6 |-2432   |6307  |none     |A4      |1018.4|8000          |61.2      |45.014236|-75.1593  |8  |186|0.6    |2      |1      |9    |1    |3  |perhour |2  |2  |[]  |[]  |1610    |0.6 |-23.2|\n",
      "|new_adsb|2024-11-05 00:00:01.952812|c0173e|ACA842      |32925  |34000  |557.3      |70.4 |1216    |2240  |none     |A5      |1012.8|32992         |80.9      |44.975143|-75.41526 |8  |186|0.8    |2      |1      |10   |2    |3  |perhour |2  |2  |[]  |[]  |1478    |0.8 |-21.8|\n",
      "|new_adsb|2024-11-05 00:00:01.952975|407799|BAW19W      |39000  |40275  |538.8      |66.5 |0       |3405  |none     |A5      |1013.6|39008         |73.1      |44.149586|-74.636925|8  |186|0.2    |2      |1      |10   |2    |3  |perhour |2  |2  |[]  |[]  |2729    |0.2 |-16.7|\n",
      "+--------+--------------------------+------+------------+-------+-------+-----------+-----+--------+------+---------+--------+------+--------------+----------+---------+----------+---+---+-------+-------+-------+-----+-----+---+--------+---+---+----+----+--------+----+-----+\n",
      "only showing top 5 rows\n",
      "\n"
     ]
    }
   ],
   "source": [
    "from pyspark.sql.functions import from_json, col\n",
    "from pyspark.sql.types import StructType, StructField, StringType, IntegerType, DoubleType, ArrayType, FloatType\n",
    "\n",
    "# Define a schema for the nested payload\n",
    "payload_schema = StructType([\n",
    "        StructField(\"hex\", StringType(), True),\n",
    "        StructField(\"flight\", StringType(), True),\n",
    "        StructField(\"alt_baro\", IntegerType(), True),\n",
    "        StructField(\"alt_geom\", IntegerType(), True),\n",
    "        StructField(\"gs\", FloatType(), True),\n",
    "        StructField(\"track\", FloatType(), True),\n",
    "        StructField(\"baro_rate\", IntegerType(), True),\n",
    "        StructField(\"squawk\", StringType(), True),\n",
    "        StructField(\"emergency\", StringType(), True),\n",
    "        StructField(\"category\", StringType(), True),\n",
    "        StructField(\"nav_qnh\", FloatType(), True),\n",
    "        StructField(\"nav_altitude_mcp\", IntegerType(), True),\n",
    "        StructField(\"nav_heading\", FloatType(), True),\n",
    "        StructField(\"lat\", FloatType(), True),\n",
    "        StructField(\"lon\", FloatType(), True),\n",
    "        StructField(\"nic\", IntegerType(), True),\n",
    "        StructField(\"rc\", IntegerType(), True),\n",
    "        StructField(\"seen_pos\", FloatType(), True),\n",
    "        StructField(\"version\", IntegerType(), True),\n",
    "        StructField(\"nic_baro\", IntegerType(), True),\n",
    "        StructField(\"nac_p\", IntegerType(), True),\n",
    "        StructField(\"nac_v\", IntegerType(), True),\n",
    "        StructField(\"sil\", IntegerType(), True),\n",
    "        StructField(\"sil_type\", StringType(), True),\n",
    "        StructField(\"gva\", IntegerType(), True),\n",
    "        StructField(\"sda\", IntegerType(), True),\n",
    "        # Assuming mlat and tisb are arrays of strings; adjust as needed\n",
    "        StructField(\"mlat\", ArrayType(StringType()), True),\n",
    "        StructField(\"tisb\", ArrayType(StringType()), True),\n",
    "        StructField(\"messages\", IntegerType(), True),\n",
    "        StructField(\"seen\", FloatType(), True),\n",
    "        StructField(\"rssi\", FloatType(), True)\n",
    "    ])\n",
    "\n",
    "# Parse the 'payload' string into a struct using the defined schema\n",
    "df_parsed = df_spark_large.withColumn(\"payload\", from_json(col(\"payload\"), payload_schema))\n",
    "\n",
    "# Now flatten the JSON by selecting fields from the parsed struct\n",
    "flattened_df2 = df_parsed.select(\n",
    "    col(\"type\").alias(\"Type\"),\n",
    "    col(\"dt\").alias(\"DT\"),\n",
    "    col(\"payload.hex\").alias(\"HexID\"),\n",
    "    col(\"payload.flight\").alias(\"FlightNumber\"),\n",
    "    col(\"payload.alt_baro\").alias(\"AltBaro\"),\n",
    "    col(\"payload.alt_geom\").alias(\"AltGeom\"),\n",
    "    col(\"payload.gs\").alias(\"GroundSpeed\"),\n",
    "    col(\"payload.track\").alias(\"Track\"),\n",
    "    col(\"payload.baro_rate\").alias(\"BaroRate\"),\n",
    "    col(\"payload.squawk\").alias(\"Squawk\"),\n",
    "    col(\"payload.emergency\").alias(\"Emergency\"),\n",
    "    col(\"payload.category\").alias(\"Category\"),\n",
    "    col(\"payload.nav_qnh\").alias(\"NavQNH\"),\n",
    "    col(\"payload.nav_altitude_mcp\").alias(\"NavAltitudeMCP\"),\n",
    "    col(\"payload.nav_heading\").alias(\"NavHeading\"),\n",
    "    col(\"payload.lat\").alias(\"Latitude\"),\n",
    "    col(\"payload.lon\").alias(\"Longitude\"),\n",
    "    col(\"payload.nic\").alias(\"NIC\"),\n",
    "    col(\"payload.rc\").alias(\"RC\"),\n",
    "    col(\"payload.seen_pos\").alias(\"SeenPos\"),\n",
    "    col(\"payload.version\").alias(\"Version\"),\n",
    "    col(\"payload.nic_baro\").alias(\"NICBaro\"),\n",
    "    col(\"payload.nac_p\").alias(\"NAC_P\"),\n",
    "    col(\"payload.nac_v\").alias(\"NAC_V\"),\n",
    "    col(\"payload.sil\").alias(\"SIL\"),\n",
    "    col(\"payload.sil_type\").alias(\"SIL_Type\"),\n",
    "    col(\"payload.gva\").alias(\"GVA\"),\n",
    "    col(\"payload.sda\").alias(\"SDA\"),\n",
    "    col(\"payload.mlat\").alias(\"MLAT\"),\n",
    "    col(\"payload.tisb\").alias(\"TISB\"),\n",
    "    col(\"payload.messages\").alias(\"Messages\"),\n",
    "    col(\"payload.seen\").alias(\"Seen\"),\n",
    "    col(\"payload.rssi\").alias(\"RSSI\")\n",
    "    )\n",
    "\n",
    "flattened_df2.printSchema()\n",
    "flattened_df2.show(5, truncate=False)\n"
   ]
  },
  {
   "cell_type": "code",
   "execution_count": 40,
   "metadata": {},
   "outputs": [
    {
     "data": {
      "text/plain": [
       "15509971"
      ]
     },
     "execution_count": 40,
     "metadata": {},
     "output_type": "execute_result"
    }
   ],
   "source": [
    "flattened_df2.count()"
   ]
  },
  {
   "cell_type": "code",
   "execution_count": 41,
   "metadata": {},
   "outputs": [
    {
     "name": "stdout",
     "output_type": "stream",
     "text": [
      "+--------+--------------------------+------+------------+-------+-------+-----------+-----+--------+------+---------+--------+------+--------------+----------+---------+----------+---+---+-------+-------+-------+-----+-----+---+--------+---+---+----+----+--------+----+-----+\n",
      "|Type    |DT                        |HexID |FlightNumber|AltBaro|AltGeom|GroundSpeed|Track|BaroRate|Squawk|Emergency|Category|NavQNH|NavAltitudeMCP|NavHeading|Latitude |Longitude |NIC|RC |SeenPos|Version|NICBaro|NAC_P|NAC_V|SIL|SIL_Type|GVA|SDA|MLAT|TISB|Messages|Seen|RSSI |\n",
      "+--------+--------------------------+------+------------+-------+-------+-----------+-----+--------+------+---------+--------+------+--------------+----------+---------+----------+---+---+-------+-------+-------+-----+-----+---+--------+---+---+----+----+--------+----+-----+\n",
      "|new_adsb|2024-11-05 00:00:00.927706|407799|BAW19W      |39000  |40275  |537.8      |66.4 |0       |3405  |none     |A5      |1013.6|39008         |73.1      |44.1487  |-74.63974 |8  |186|0.1    |2      |1      |10   |2    |3  |perhour |2  |2  |[]  |[]  |2720    |0.1 |-15.4|\n",
      "|new_adsb|2024-11-05 00:00:00.931604|c045a7|00000000    |36000  |37050  |384.0      |248.0|-64     |0655  |NULL     |A3      |1013.6|36000         |265.1     |45.296165|-76.085075|8  |186|0.2    |2      |1      |10   |1    |3  |perhour |2  |2  |[]  |[]  |1220    |0.1 |-22.3|\n",
      "|new_adsb|2024-11-05 00:00:00.931786|c00ebb|CJT626      |11525  |11850  |430.0      |51.6 |-2432   |6307  |none     |A4      |1018.4|8000          |61.2      |45.014236|-75.1593  |8  |186|0.6    |2      |1      |9    |1    |3  |perhour |2  |2  |[]  |[]  |1610    |0.6 |-23.2|\n",
      "|new_adsb|2024-11-05 00:00:01.952812|c0173e|ACA842      |32925  |34000  |557.3      |70.4 |1216    |2240  |none     |A5      |1012.8|32992         |80.9      |44.975143|-75.41526 |8  |186|0.8    |2      |1      |10   |2    |3  |perhour |2  |2  |[]  |[]  |1478    |0.8 |-21.8|\n",
      "|new_adsb|2024-11-05 00:00:01.952975|407799|BAW19W      |39000  |40275  |538.8      |66.5 |0       |3405  |none     |A5      |1013.6|39008         |73.1      |44.149586|-74.636925|8  |186|0.2    |2      |1      |10   |2    |3  |perhour |2  |2  |[]  |[]  |2729    |0.2 |-16.7|\n",
      "+--------+--------------------------+------+------------+-------+-------+-----------+-----+--------+------+---------+--------+------+--------------+----------+---------+----------+---+---+-------+-------+-------+-----+-----+---+--------+---+---+----+----+--------+----+-----+\n",
      "only showing top 5 rows\n",
      "\n"
     ]
    }
   ],
   "source": [
    "flattened_df2.show(5, truncate=False)"
   ]
  },
  {
   "cell_type": "code",
   "execution_count": 42,
   "metadata": {},
   "outputs": [],
   "source": [
    "new_df2 = flattened_df2.withColumn(\"date\", to_date(col(\"dt\")))\n",
    "\n"
   ]
  },
  {
   "cell_type": "code",
   "execution_count": 43,
   "metadata": {},
   "outputs": [
    {
     "name": "stdout",
     "output_type": "stream",
     "text": [
      "+--------+--------------------------+------+------------+-------+-------+-----------+-----+--------+------+---------+--------+------+--------------+----------+---------+----------+---+---+-------+-------+-------+-----+-----+---+--------+---+---+----+----+--------+----+-----+----------+\n",
      "|Type    |DT                        |HexID |FlightNumber|AltBaro|AltGeom|GroundSpeed|Track|BaroRate|Squawk|Emergency|Category|NavQNH|NavAltitudeMCP|NavHeading|Latitude |Longitude |NIC|RC |SeenPos|Version|NICBaro|NAC_P|NAC_V|SIL|SIL_Type|GVA|SDA|MLAT|TISB|Messages|Seen|RSSI |date      |\n",
      "+--------+--------------------------+------+------------+-------+-------+-----------+-----+--------+------+---------+--------+------+--------------+----------+---------+----------+---+---+-------+-------+-------+-----+-----+---+--------+---+---+----+----+--------+----+-----+----------+\n",
      "|new_adsb|2024-11-05 00:00:00.927706|407799|BAW19W      |39000  |40275  |537.8      |66.4 |0       |3405  |none     |A5      |1013.6|39008         |73.1      |44.1487  |-74.63974 |8  |186|0.1    |2      |1      |10   |2    |3  |perhour |2  |2  |[]  |[]  |2720    |0.1 |-15.4|2024-11-05|\n",
      "|new_adsb|2024-11-05 00:00:00.931604|c045a7|00000000    |36000  |37050  |384.0      |248.0|-64     |0655  |NULL     |A3      |1013.6|36000         |265.1     |45.296165|-76.085075|8  |186|0.2    |2      |1      |10   |1    |3  |perhour |2  |2  |[]  |[]  |1220    |0.1 |-22.3|2024-11-05|\n",
      "|new_adsb|2024-11-05 00:00:00.931786|c00ebb|CJT626      |11525  |11850  |430.0      |51.6 |-2432   |6307  |none     |A4      |1018.4|8000          |61.2      |45.014236|-75.1593  |8  |186|0.6    |2      |1      |9    |1    |3  |perhour |2  |2  |[]  |[]  |1610    |0.6 |-23.2|2024-11-05|\n",
      "|new_adsb|2024-11-05 00:00:01.952812|c0173e|ACA842      |32925  |34000  |557.3      |70.4 |1216    |2240  |none     |A5      |1012.8|32992         |80.9      |44.975143|-75.41526 |8  |186|0.8    |2      |1      |10   |2    |3  |perhour |2  |2  |[]  |[]  |1478    |0.8 |-21.8|2024-11-05|\n",
      "|new_adsb|2024-11-05 00:00:01.952975|407799|BAW19W      |39000  |40275  |538.8      |66.5 |0       |3405  |none     |A5      |1013.6|39008         |73.1      |44.149586|-74.636925|8  |186|0.2    |2      |1      |10   |2    |3  |perhour |2  |2  |[]  |[]  |2729    |0.2 |-16.7|2024-11-05|\n",
      "+--------+--------------------------+------+------------+-------+-------+-----------+-----+--------+------+---------+--------+------+--------------+----------+---------+----------+---+---+-------+-------+-------+-----+-----+---+--------+---+---+----+----+--------+----+-----+----------+\n",
      "only showing top 5 rows\n",
      "\n"
     ]
    }
   ],
   "source": [
    "new_df2.show(5, truncate=False)"
   ]
  },
  {
   "cell_type": "code",
   "execution_count": 44,
   "metadata": {},
   "outputs": [
    {
     "name": "stdout",
     "output_type": "stream",
     "text": [
      "+----------+------+\n",
      "|      date| count|\n",
      "+----------+------+\n",
      "|2024-11-05|281394|\n",
      "|2024-11-06|275072|\n",
      "|2024-11-07|301973|\n",
      "|      NULL|     3|\n",
      "|2024-11-08|287635|\n",
      "|2024-11-09|252140|\n",
      "|2024-11-10|268101|\n",
      "|2024-11-11|289233|\n",
      "|2024-11-12|268744|\n",
      "|2024-11-13|303106|\n",
      "|2024-11-14|321924|\n",
      "|2024-11-15|291571|\n",
      "|2024-11-16|267633|\n",
      "|2024-11-17|293928|\n",
      "|2024-11-18|285666|\n",
      "|2024-11-19|274995|\n",
      "|2024-11-20|274723|\n",
      "|2024-11-21|288035|\n",
      "|2024-11-22|283428|\n",
      "|2024-11-23|237516|\n",
      "+----------+------+\n",
      "only showing top 20 rows\n",
      "\n"
     ]
    }
   ],
   "source": [
    "new_df2.groupBy(\"date\").count().show()"
   ]
  },
  {
   "cell_type": "code",
   "execution_count": 45,
   "metadata": {},
   "outputs": [
    {
     "data": {
      "text/plain": [
       "['Type',\n",
       " 'DT',\n",
       " 'HexID',\n",
       " 'FlightNumber',\n",
       " 'AltBaro',\n",
       " 'AltGeom',\n",
       " 'GroundSpeed',\n",
       " 'Track',\n",
       " 'BaroRate',\n",
       " 'Squawk',\n",
       " 'Emergency',\n",
       " 'Category',\n",
       " 'NavQNH',\n",
       " 'NavAltitudeMCP',\n",
       " 'NavHeading',\n",
       " 'Latitude',\n",
       " 'Longitude',\n",
       " 'NIC',\n",
       " 'RC',\n",
       " 'SeenPos',\n",
       " 'Version',\n",
       " 'NICBaro',\n",
       " 'NAC_P',\n",
       " 'NAC_V',\n",
       " 'SIL',\n",
       " 'SIL_Type',\n",
       " 'GVA',\n",
       " 'SDA',\n",
       " 'MLAT',\n",
       " 'TISB',\n",
       " 'Messages',\n",
       " 'Seen',\n",
       " 'RSSI']"
      ]
     },
     "execution_count": 45,
     "metadata": {},
     "output_type": "execute_result"
    }
   ],
   "source": [
    "flattened_df2.columns"
   ]
  },
  {
   "cell_type": "code",
   "execution_count": 46,
   "metadata": {},
   "outputs": [
    {
     "name": "stdout",
     "output_type": "stream",
     "text": [
      "+------------+------------+\n",
      "|FlightNumber|mlat_element|\n",
      "+------------+------------+\n",
      "+------------+------------+\n",
      "\n"
     ]
    }
   ],
   "source": [
    "from pyspark.sql.functions import explode, col\n",
    "\n",
    "# Explode the 'mlat' array so each element appears in its own row\n",
    "df_exploded = flattened_df2.select(\"FlightNumber\", explode(col(\"mlat\")).alias(\"mlat_element\"))\n",
    "df_exploded.show(10, truncate=False)\n"
   ]
  },
  {
   "cell_type": "code",
   "execution_count": 48,
   "metadata": {},
   "outputs": [
    {
     "name": "stdout",
     "output_type": "stream",
     "text": [
      "+------------+----+\n",
      "|FlightNumber|mlat|\n",
      "+------------+----+\n",
      "|BAW19W      |[]  |\n",
      "|00000000    |[]  |\n",
      "|CJT626      |[]  |\n",
      "|ACA842      |[]  |\n",
      "|BAW19W      |[]  |\n",
      "|00000000    |[]  |\n",
      "|CJT626      |[]  |\n",
      "|ACA842      |[]  |\n",
      "|BAW19W      |[]  |\n",
      "|CJT626      |[]  |\n",
      "+------------+----+\n",
      "only showing top 10 rows\n",
      "\n"
     ]
    }
   ],
   "source": [
    "flattened_df2.select(\"FlightNumber\", \"mlat\").show(10, truncate=False)"
   ]
  },
  {
   "cell_type": "code",
   "execution_count": 50,
   "metadata": {},
   "outputs": [
    {
     "name": "stdout",
     "output_type": "stream",
     "text": [
      "+----+---+-----+------------+-------+-------+-----------+-----+--------+------+---------+--------+------+--------------+----------+--------+---------+---+---+-------+-------+-------+-----+-----+---+--------+---+---+----+----+--------+----+----+\n",
      "|Type|DT |HexID|FlightNumber|AltBaro|AltGeom|GroundSpeed|Track|BaroRate|Squawk|Emergency|Category|NavQNH|NavAltitudeMCP|NavHeading|Latitude|Longitude|NIC|RC |SeenPos|Version|NICBaro|NAC_P|NAC_V|SIL|SIL_Type|GVA|SDA|MLAT|TISB|Messages|Seen|RSSI|\n",
      "+----+---+-----+------------+-------+-------+-----------+-----+--------+------+---------+--------+------+--------------+----------+--------+---------+---+---+-------+-------+-------+-----+-----+---+--------+---+---+----+----+--------+----+----+\n",
      "+----+---+-----+------------+-------+-------+-----------+-----+--------+------+---------+--------+------+--------------+----------+--------+---------+---+---+-------+-------+-------+-----+-----+---+--------+---+---+----+----+--------+----+----+\n",
      "\n"
     ]
    }
   ],
   "source": [
    "from pyspark.sql.functions import size, col\n",
    "\n",
    "# Filter rows where the \"mlat\" array has more than 0 elements\n",
    "non_empty_mlat = flattened_df2.filter(size(col(\"mlat\")) > 0)\n",
    "\n",
    "# Show the first few rows where \"mlat\" is not empty\n",
    "non_empty_mlat.show(10, truncate=False)\n"
   ]
  }
 ],
 "metadata": {
  "kernelspec": {
   "display_name": "Python 3",
   "language": "python",
   "name": "python3"
  },
  "language_info": {
   "codemirror_mode": {
    "name": "ipython",
    "version": 3
   },
   "file_extension": ".py",
   "mimetype": "text/x-python",
   "name": "python",
   "nbconvert_exporter": "python",
   "pygments_lexer": "ipython3",
   "version": "3.12.1"
  }
 },
 "nbformat": 4,
 "nbformat_minor": 2
}
