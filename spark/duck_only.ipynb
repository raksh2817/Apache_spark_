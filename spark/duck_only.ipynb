{
 "cells": [
  {
   "cell_type": "code",
   "execution_count": 1,
   "id": "87f722bd",
   "metadata": {},
   "outputs": [],
   "source": [
    "one_day_path = \"D:/Project/Spark_project/one_day_data.txt\"\n"
   ]
  },
  {
   "cell_type": "code",
   "execution_count": 2,
   "id": "cc4f41d9",
   "metadata": {},
   "outputs": [
    {
     "data": {
      "text/plain": [
       "<duckdb.duckdb.DuckDBPyConnection at 0x2b109fbdbb0>"
      ]
     },
     "execution_count": 2,
     "metadata": {},
     "output_type": "execute_result"
    }
   ],
   "source": [
    "import duckdb\n",
    "\n",
    "# Create a DuckDB connection\n",
    "con = duckdb.connect()\n",
    "\n",
    "# Execute the SQL command\n",
    "con.execute(f\"\"\"\n",
    "CREATE OR REPLACE TABLE duck_one_day_raw AS\n",
    "SELECT * \n",
    "FROM read_json_auto('{one_day_path}', union_by_name=true, sample_size=-1);\n",
    "\"\"\")\n"
   ]
  },
  {
   "cell_type": "code",
   "execution_count": 3,
   "id": "b592d254",
   "metadata": {},
   "outputs": [
    {
     "data": {
      "text/html": [
       "<div>\n",
       "<style scoped>\n",
       "    .dataframe tbody tr th:only-of-type {\n",
       "        vertical-align: middle;\n",
       "    }\n",
       "\n",
       "    .dataframe tbody tr th {\n",
       "        vertical-align: top;\n",
       "    }\n",
       "\n",
       "    .dataframe thead th {\n",
       "        text-align: right;\n",
       "    }\n",
       "</style>\n",
       "<table border=\"1\" class=\"dataframe\">\n",
       "  <thead>\n",
       "    <tr style=\"text-align: right;\">\n",
       "      <th></th>\n",
       "      <th>dt</th>\n",
       "      <th>payload</th>\n",
       "    </tr>\n",
       "  </thead>\n",
       "  <tbody>\n",
       "    <tr>\n",
       "      <th>0</th>\n",
       "      <td>2024-12-31 00:00:00.211996</td>\n",
       "      <td>{'hex': 'c0884e', 'flight': 'POE135  ', 'alt_b...</td>\n",
       "    </tr>\n",
       "    <tr>\n",
       "      <th>1</th>\n",
       "      <td>2024-12-31 00:00:00.220373</td>\n",
       "      <td>{'hex': '4080bf', 'flight': 'BAW6AC  ', 'alt_b...</td>\n",
       "    </tr>\n",
       "    <tr>\n",
       "      <th>2</th>\n",
       "      <td>2024-12-31 00:00:00.220540</td>\n",
       "      <td>{'hex': 'aa80c0', 'flight': 'EJA776  ', 'alt_b...</td>\n",
       "    </tr>\n",
       "    <tr>\n",
       "      <th>3</th>\n",
       "      <td>2024-12-31 00:00:00.220652</td>\n",
       "      <td>{'hex': 'a18380', 'flight': 'EDV5489 ', 'alt_b...</td>\n",
       "    </tr>\n",
       "    <tr>\n",
       "      <th>4</th>\n",
       "      <td>2024-12-31 00:00:00.220729</td>\n",
       "      <td>{'hex': 'c05403', 'flight': 'WJA598  ', 'alt_b...</td>\n",
       "    </tr>\n",
       "  </tbody>\n",
       "</table>\n",
       "</div>"
      ],
      "text/plain": [
       "                          dt  \\\n",
       "0 2024-12-31 00:00:00.211996   \n",
       "1 2024-12-31 00:00:00.220373   \n",
       "2 2024-12-31 00:00:00.220540   \n",
       "3 2024-12-31 00:00:00.220652   \n",
       "4 2024-12-31 00:00:00.220729   \n",
       "\n",
       "                                             payload  \n",
       "0  {'hex': 'c0884e', 'flight': 'POE135  ', 'alt_b...  \n",
       "1  {'hex': '4080bf', 'flight': 'BAW6AC  ', 'alt_b...  \n",
       "2  {'hex': 'aa80c0', 'flight': 'EJA776  ', 'alt_b...  \n",
       "3  {'hex': 'a18380', 'flight': 'EDV5489 ', 'alt_b...  \n",
       "4  {'hex': 'c05403', 'flight': 'WJA598  ', 'alt_b...  "
      ]
     },
     "execution_count": 3,
     "metadata": {},
     "output_type": "execute_result"
    }
   ],
   "source": [
    "con.execute(\"SELECT dt, payload FROM duck_one_day_raw LIMIT 5\").fetchdf()\n",
    "\n"
   ]
  },
  {
   "cell_type": "code",
   "execution_count": 4,
   "id": "959902ed",
   "metadata": {},
   "outputs": [
    {
     "data": {
      "application/vnd.jupyter.widget-view+json": {
       "model_id": "7695b085e8ab46e1ae75163bfa277439",
       "version_major": 2,
       "version_minor": 0
      },
      "text/plain": [
       "FloatProgress(value=0.0, layout=Layout(width='auto'), style=ProgressStyle(bar_color='black'))"
      ]
     },
     "metadata": {},
     "output_type": "display_data"
    },
    {
     "data": {
      "text/plain": [
       "<duckdb.duckdb.DuckDBPyConnection at 0x2b109fbdbb0>"
      ]
     },
     "execution_count": 4,
     "metadata": {},
     "output_type": "execute_result"
    }
   ],
   "source": [
    "con.execute(\"\"\"\n",
    "CREATE OR REPLACE TABLE duck_one_day_flat AS\n",
    "SELECT \n",
    "    dt AS timestamp,\n",
    "    payload ->> 'hex' AS hex,\n",
    "    payload ->> 'flight' AS flight,\n",
    "    TRY_CAST(payload ->> 'alt_baro' AS DOUBLE) AS alt_baro,\n",
    "    TRY_CAST(payload ->> 'alt_geom' AS DOUBLE) AS alt_geom,\n",
    "    TRY_CAST(payload ->> 'gs' AS DOUBLE) AS ground_speed,\n",
    "    TRY_CAST(payload ->> 'track' AS DOUBLE) AS track,\n",
    "    TRY_CAST(payload ->> 'baro_rate' AS DOUBLE) AS baro_rate,\n",
    "    payload ->> 'squawk' AS squawk,\n",
    "    payload ->> 'emergency' AS emergency,\n",
    "    payload ->> 'category' AS category,\n",
    "    TRY_CAST(payload ->> 'nav_qnh' AS DOUBLE) AS nav_qnh,\n",
    "    TRY_CAST(payload ->> 'nav_altitude_mcp' AS DOUBLE) AS nav_altitude_mcp,\n",
    "    TRY_CAST(payload ->> 'nav_heading' AS DOUBLE) AS nav_heading,\n",
    "    TRY_CAST(payload ->> 'lat' AS DOUBLE) AS lat,\n",
    "    TRY_CAST(payload ->> 'lon' AS DOUBLE) AS lon,\n",
    "    TRY_CAST(payload ->> 'nic' AS INTEGER) AS nic,\n",
    "    TRY_CAST(payload ->> 'rc' AS INTEGER) AS rc,\n",
    "    TRY_CAST(payload ->> 'seen_pos' AS DOUBLE) AS seen_pos,\n",
    "    TRY_CAST(payload ->> 'version' AS INTEGER) AS version,\n",
    "    TRY_CAST(payload ->> 'nic_baro' AS INTEGER) AS nic_baro,\n",
    "    TRY_CAST(payload ->> 'nac_p' AS INTEGER) AS nac_p,\n",
    "    TRY_CAST(payload ->> 'nac_v' AS INTEGER) AS nac_v,\n",
    "    TRY_CAST(payload ->> 'sil' AS INTEGER) AS sil,\n",
    "    payload ->> 'sil_type' AS sil_type,\n",
    "    TRY_CAST(payload ->> 'gva' AS INTEGER) AS gva,\n",
    "    TRY_CAST(payload ->> 'sda' AS INTEGER) AS sda,\n",
    "    TRY_CAST(payload ->> 'mlat' AS BOOLEAN) AS mlat,\n",
    "    TRY_CAST(payload ->> 'tisb' AS BOOLEAN) AS tisb,\n",
    "    TRY_CAST(payload ->> 'messages' AS INTEGER) AS messages,\n",
    "    TRY_CAST(payload ->> 'seen' AS DOUBLE) AS seen,\n",
    "    TRY_CAST(payload ->> 'rssi' AS DOUBLE) AS rssi\n",
    "FROM duck_one_day_raw;\n",
    "\"\"\")\n",
    "\n"
   ]
  },
  {
   "cell_type": "code",
   "execution_count": null,
   "id": "807ba037",
   "metadata": {},
   "outputs": [
    {
     "data": {
      "text/html": [
       "<div>\n",
       "<style scoped>\n",
       "    .dataframe tbody tr th:only-of-type {\n",
       "        vertical-align: middle;\n",
       "    }\n",
       "\n",
       "    .dataframe tbody tr th {\n",
       "        vertical-align: top;\n",
       "    }\n",
       "\n",
       "    .dataframe thead th {\n",
       "        text-align: right;\n",
       "    }\n",
       "</style>\n",
       "<table border=\"1\" class=\"dataframe\">\n",
       "  <thead>\n",
       "    <tr style=\"text-align: right;\">\n",
       "      <th></th>\n",
       "      <th>timestamp</th>\n",
       "      <th>hex</th>\n",
       "      <th>flight</th>\n",
       "      <th>alt_baro</th>\n",
       "      <th>lat</th>\n",
       "      <th>lon</th>\n",
       "      <th>ground_speed</th>\n",
       "    </tr>\n",
       "  </thead>\n",
       "  <tbody>\n",
       "    <tr>\n",
       "      <th>0</th>\n",
       "      <td>2024-12-31 00:00:00.211996</td>\n",
       "      <td>c0884e</td>\n",
       "      <td>POE135</td>\n",
       "      <td>28025.0</td>\n",
       "      <td>44.909225</td>\n",
       "      <td>-75.221950</td>\n",
       "      <td>458.3</td>\n",
       "    </tr>\n",
       "    <tr>\n",
       "      <th>1</th>\n",
       "      <td>2024-12-31 00:00:00.220373</td>\n",
       "      <td>4080bf</td>\n",
       "      <td>BAW6AC</td>\n",
       "      <td>36975.0</td>\n",
       "      <td>45.040421</td>\n",
       "      <td>-75.155443</td>\n",
       "      <td>538.6</td>\n",
       "    </tr>\n",
       "    <tr>\n",
       "      <th>2</th>\n",
       "      <td>2024-12-31 00:00:00.220540</td>\n",
       "      <td>aa80c0</td>\n",
       "      <td>EJA776</td>\n",
       "      <td>23850.0</td>\n",
       "      <td>44.989014</td>\n",
       "      <td>-74.943760</td>\n",
       "      <td>435.2</td>\n",
       "    </tr>\n",
       "    <tr>\n",
       "      <th>3</th>\n",
       "      <td>2024-12-31 00:00:00.220652</td>\n",
       "      <td>a18380</td>\n",
       "      <td>EDV5489</td>\n",
       "      <td>19700.0</td>\n",
       "      <td>45.061077</td>\n",
       "      <td>-74.762097</td>\n",
       "      <td>422.2</td>\n",
       "    </tr>\n",
       "    <tr>\n",
       "      <th>4</th>\n",
       "      <td>2024-12-31 00:00:00.220729</td>\n",
       "      <td>c05403</td>\n",
       "      <td>WJA598</td>\n",
       "      <td>17000.0</td>\n",
       "      <td>45.164474</td>\n",
       "      <td>-74.548580</td>\n",
       "      <td>424.9</td>\n",
       "    </tr>\n",
       "  </tbody>\n",
       "</table>\n",
       "</div>"
      ],
      "text/plain": [
       "                   timestamp     hex    flight  alt_baro        lat  \\\n",
       "0 2024-12-31 00:00:00.211996  c0884e  POE135     28025.0  44.909225   \n",
       "1 2024-12-31 00:00:00.220373  4080bf  BAW6AC     36975.0  45.040421   \n",
       "2 2024-12-31 00:00:00.220540  aa80c0  EJA776     23850.0  44.989014   \n",
       "3 2024-12-31 00:00:00.220652  a18380  EDV5489    19700.0  45.061077   \n",
       "4 2024-12-31 00:00:00.220729  c05403  WJA598     17000.0  45.164474   \n",
       "\n",
       "         lon  ground_speed  \n",
       "0 -75.221950         458.3  \n",
       "1 -75.155443         538.6  \n",
       "2 -74.943760         435.2  \n",
       "3 -74.762097         422.2  \n",
       "4 -74.548580         424.9  "
      ]
     },
     "execution_count": 9,
     "metadata": {},
     "output_type": "execute_result"
    }
   ],
   "source": [
    "con.execute(\"SELECT * FROM duck_one_day_flat LIMIT 5\").fetchdf()\n"
   ]
  },
  {
   "cell_type": "code",
   "execution_count": null,
   "id": "f8a5eece",
   "metadata": {},
   "outputs": [],
   "source": [
    "# Load full telemetry and extract all payload fields in Spark\n",
    "\n",
    "# 🚀 Initialize Spark Session\n",
    "\n",
    "\n",
    "from pyspark.sql import SparkSession\n",
    "from pyspark.sql.functions import col\n",
    "\n",
    "spark = SparkSession.builder \\\n",
    "    .appName(\"SparkDuckDB_Comparison\") \\\n",
    "    .master(\"local[*]\") \\\n",
    "    .config(\"spark.executor.memory\", \"4g\") \\\n",
    "    .getOrCreate()\n",
    "\n",
    "print(\"✅ Spark Session created\")\n",
    "\n",
    "df_spark_small = spark.read.json(one_day_path)\n",
    "\n",
    "df_spark_small_flat = df_spark_small.select(\n",
    "    col(\"dt\").alias(\"timestamp\"),\n",
    "    col(\"payload.hex\").alias(\"hex\"),\n",
    "    col(\"payload.alt_baro\").alias(\"alt_baro\"),\n",
    "    col(\"payload.alt_geom\").alias(\"alt_geom\"),\n",
    "    col(\"payload.gs\").alias(\"ground_speed\"),\n",
    "    col(\"payload.track\").alias(\"track\"),\n",
    "    col(\"payload.baro_rate\").alias(\"baro_rate\"),\n",
    "    col(\"payload.squawk\").alias(\"squawk\"),\n",
    "    col(\"payload.emergency\").alias(\"emergency\"),\n",
    "    col(\"payload.category\").alias(\"category\"),\n",
    "    col(\"payload.nav_qnh\").alias(\"nav_qnh\"),\n",
    "    col(\"payload.nav_altitude_mcp\").alias(\"nav_altitude_mcp\"),\n",
    "    col(\"payload.nav_heading\").alias(\"nav_heading\"),\n",
    "    col(\"payload.lat\").alias(\"lat\"),\n",
    "    col(\"payload.lon\").alias(\"lon\"),\n",
    "    col(\"payload.nic\").alias(\"nic\"),\n",
    "    col(\"payload.rc\").alias(\"rc\"),\n",
    "    col(\"payload.seen_pos\").alias(\"seen_pos\"),\n",
    "    col(\"payload.version\").alias(\"version\"),\n",
    "    col(\"payload.nic_baro\").alias(\"nic_baro\"),\n",
    "    col(\"payload.nac_p\").alias(\"nac_p\"),\n",
    "    col(\"payload.nac_v\").alias(\"nac_v\"),\n",
    "    col(\"payload.sil\").alias(\"sil\"),\n",
    "    col(\"payload.sil_type\").alias(\"sil_type\"),\n",
    "    col(\"payload.gva\").alias(\"gva\"),\n",
    "    col(\"payload.sda\").alias(\"sda\"),\n",
    "    col(\"payload.mlat\").alias(\"mlat\"),\n",
    "    col(\"payload.tisb\").alias(\"tisb\"),\n",
    "    col(\"payload.messages\").alias(\"messages\"),\n",
    "    col(\"payload.seen\").alias(\"seen\"),\n",
    "    col(\"payload.rssi\").alias(\"rssi\"),\n",
    "    col(\"payload.flight\").alias(\"flight\")\n",
    ")\n",
    "\n",
    "df_spark_small_flat.show(5)\n"
   ]
  }
 ],
 "metadata": {
  "kernelspec": {
   "display_name": "Python 3",
   "language": "python",
   "name": "python3"
  },
  "language_info": {
   "codemirror_mode": {
    "name": "ipython",
    "version": 3
   },
   "file_extension": ".py",
   "mimetype": "text/x-python",
   "name": "python",
   "nbconvert_exporter": "python",
   "pygments_lexer": "ipython3",
   "version": "3.12.1"
  }
 },
 "nbformat": 4,
 "nbformat_minor": 5
}
