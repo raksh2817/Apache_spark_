{
 "cells": [
  {
   "cell_type": "code",
   "execution_count": 1,
   "id": "920e780b",
   "metadata": {},
   "outputs": [],
   "source": [
    "#  Step 1: Import Spark\n",
    "from pyspark.sql import SparkSession\n",
    "from pyspark.sql.functions import col, avg, explode, desc\n",
    "\n",
    "#  Step 2: Create Spark Session\n",
    "spark = SparkSession.builder \\\n",
    "    .appName(\"Flight Telemetry Analysis\") \\\n",
    "    .master(\"local[*]\") \\\n",
    "    .getOrCreate()\n"
   ]
  },
  {
   "cell_type": "code",
   "execution_count": 2,
   "id": "07048795",
   "metadata": {},
   "outputs": [],
   "source": [
    "#  Step 3: Define File Paths\n",
    "small_telemetry_path = \"D:/Project/Spark_project/combined_file_small.txt\"\n",
    "large_telemetry_path = \"D:/Project/Spark_project/combined_file_large.txt\"\n",
    "aircraft_info_path = \"D:/GitHub/Apache_spark_/spark/basic-ac-db.json\"\n"
   ]
  },
  {
   "cell_type": "code",
   "execution_count": 3,
   "id": "42e7853c",
   "metadata": {},
   "outputs": [
    {
     "name": "stdout",
     "output_type": "stream",
     "text": [
      "root\n",
      " |-- dt: string (nullable = true)\n",
      " |-- payload: struct (nullable = true)\n",
      " |    |-- alt_baro: long (nullable = true)\n",
      " |    |-- alt_geom: long (nullable = true)\n",
      " |    |-- baro_rate: long (nullable = true)\n",
      " |    |-- category: string (nullable = true)\n",
      " |    |-- emergency: string (nullable = true)\n",
      " |    |-- flight: string (nullable = true)\n",
      " |    |-- gs: double (nullable = true)\n",
      " |    |-- gva: long (nullable = true)\n",
      " |    |-- hex: string (nullable = true)\n",
      " |    |-- lat: double (nullable = true)\n",
      " |    |-- lon: double (nullable = true)\n",
      " |    |-- messages: long (nullable = true)\n",
      " |    |-- mlat: array (nullable = true)\n",
      " |    |    |-- element: string (containsNull = true)\n",
      " |    |-- nac_p: long (nullable = true)\n",
      " |    |-- nac_v: long (nullable = true)\n",
      " |    |-- nav_altitude_mcp: long (nullable = true)\n",
      " |    |-- nav_heading: double (nullable = true)\n",
      " |    |-- nav_qnh: double (nullable = true)\n",
      " |    |-- nic: long (nullable = true)\n",
      " |    |-- nic_baro: long (nullable = true)\n",
      " |    |-- rc: long (nullable = true)\n",
      " |    |-- rssi: double (nullable = true)\n",
      " |    |-- sda: long (nullable = true)\n",
      " |    |-- seen: double (nullable = true)\n",
      " |    |-- seen_pos: double (nullable = true)\n",
      " |    |-- sil: long (nullable = true)\n",
      " |    |-- sil_type: string (nullable = true)\n",
      " |    |-- squawk: string (nullable = true)\n",
      " |    |-- tisb: array (nullable = true)\n",
      " |    |    |-- element: string (containsNull = true)\n",
      " |    |-- track: double (nullable = true)\n",
      " |    |-- version: long (nullable = true)\n",
      " |-- type: string (nullable = true)\n",
      "\n",
      "root\n",
      " |-- faa_ladd: boolean (nullable = true)\n",
      " |-- faa_pia: boolean (nullable = true)\n",
      " |-- icao: string (nullable = true)\n",
      " |-- icaotype: string (nullable = true)\n",
      " |-- manufacturer: string (nullable = true)\n",
      " |-- mil: boolean (nullable = true)\n",
      " |-- model: string (nullable = true)\n",
      " |-- ownop: string (nullable = true)\n",
      " |-- reg: string (nullable = true)\n",
      " |-- short_type: string (nullable = true)\n",
      " |-- year: string (nullable = true)\n",
      "\n"
     ]
    }
   ],
   "source": [
    "#  Step 4: Load JSON Files\n",
    "df_flight = spark.read.option(\"multiline\", \"true\").json(small_telemetry_path)\n",
    "df_aircraft = spark.read.option(\"multiline\", \"true\").json(aircraft_info_path)\n",
    "\n",
    "# Show schema\n",
    "df_flight.printSchema()\n",
    "df_aircraft.printSchema()\n"
   ]
  },
  {
   "cell_type": "code",
   "execution_count": 4,
   "id": "5114a28e",
   "metadata": {},
   "outputs": [
    {
     "data": {
      "text/plain": [
       "['dt', 'payload', 'type']"
      ]
     },
     "execution_count": 4,
     "metadata": {},
     "output_type": "execute_result"
    }
   ],
   "source": [
    "df_flight.columns\n"
   ]
  },
  {
   "cell_type": "code",
   "execution_count": 5,
   "id": "57d658f6",
   "metadata": {},
   "outputs": [
    {
     "name": "stdout",
     "output_type": "stream",
     "text": [
      "root\n",
      " |-- dt: string (nullable = true)\n",
      " |-- payload: struct (nullable = true)\n",
      " |    |-- alt_baro: long (nullable = true)\n",
      " |    |-- alt_geom: long (nullable = true)\n",
      " |    |-- baro_rate: long (nullable = true)\n",
      " |    |-- category: string (nullable = true)\n",
      " |    |-- emergency: string (nullable = true)\n",
      " |    |-- flight: string (nullable = true)\n",
      " |    |-- gs: double (nullable = true)\n",
      " |    |-- gva: long (nullable = true)\n",
      " |    |-- hex: string (nullable = true)\n",
      " |    |-- lat: double (nullable = true)\n",
      " |    |-- lon: double (nullable = true)\n",
      " |    |-- messages: long (nullable = true)\n",
      " |    |-- mlat: array (nullable = true)\n",
      " |    |    |-- element: string (containsNull = true)\n",
      " |    |-- nac_p: long (nullable = true)\n",
      " |    |-- nac_v: long (nullable = true)\n",
      " |    |-- nav_altitude_mcp: long (nullable = true)\n",
      " |    |-- nav_heading: double (nullable = true)\n",
      " |    |-- nav_qnh: double (nullable = true)\n",
      " |    |-- nic: long (nullable = true)\n",
      " |    |-- nic_baro: long (nullable = true)\n",
      " |    |-- rc: long (nullable = true)\n",
      " |    |-- rssi: double (nullable = true)\n",
      " |    |-- sda: long (nullable = true)\n",
      " |    |-- seen: double (nullable = true)\n",
      " |    |-- seen_pos: double (nullable = true)\n",
      " |    |-- sil: long (nullable = true)\n",
      " |    |-- sil_type: string (nullable = true)\n",
      " |    |-- squawk: string (nullable = true)\n",
      " |    |-- tisb: array (nullable = true)\n",
      " |    |    |-- element: string (containsNull = true)\n",
      " |    |-- track: double (nullable = true)\n",
      " |    |-- version: long (nullable = true)\n",
      " |-- type: string (nullable = true)\n",
      "\n"
     ]
    }
   ],
   "source": [
    "df_flight.printSchema()\n"
   ]
  },
  {
   "cell_type": "code",
   "execution_count": 6,
   "id": "6f6c8f1c",
   "metadata": {},
   "outputs": [
    {
     "name": "stdout",
     "output_type": "stream",
     "text": [
      "+--------------------+------+--------+--------+------------+-----+---------+------+---------+--------+-------+----------------+-----------+---------+----------+---+---+--------+-------+--------+-----+-----+---+--------+---+---+----+----+--------+----+-----+--------+\n",
      "|           timestamp|   hex|alt_baro|alt_geom|ground_speed|track|baro_rate|squawk|emergency|category|nav_qnh|nav_altitude_mcp|nav_heading|      lat|       lon|nic| rc|seen_pos|version|nic_baro|nac_p|nac_v|sil|sil_type|gva|sda|mlat|tisb|messages|seen| rssi|  flight|\n",
      "+--------------------+------+--------+--------+------------+-----+---------+------+---------+--------+-------+----------------+-----------+---------+----------+---+---+--------+-------+--------+-----+-----+---+--------+---+---+----+----+--------+----+-----+--------+\n",
      "|2025-01-31 00:00:...|ab35d3|   37000|   36475|       552.7| 41.3|        0|  5740|     none|      A5| 1013.6|           36992|        0.0|44.218048|-75.741316|  8|186|     0.4|      2|       1|    9|    1|  3| perhour|  2|  2|  []|  []|    1738| 0.1|-17.2|DAL136  |\n",
      "|2025-01-31 00:00:...|c03f37|   23925|   23325|       352.3| 22.7|     -960|  0512|     none|      A3| 1013.6|           14016|        0.0|44.900757| -75.38511|  8|186|     1.4|      2|       1|   10|    2|  3| perhour|  2|  2|  []|  []|    1370| 0.1|-20.5|WJA598  |\n",
      "|2025-01-31 00:00:...|c06a75|   24725|   24125|       482.7| 47.5|    -1856|  1541|     none|      A3| 1012.8|           24000|       NULL|44.762677|-75.105152|  8|186|     0.1|      2|       1|    9|    1|  3| perhour|  2|  3|  []|  []|    3725| 0.0| -4.2|TSC359  |\n",
      "|2025-01-31 00:00:...|c078ba|   15175|   14600|       420.6| 48.1|    -2944|  6107|     none|      A5| 1015.2|            8000|       NULL|45.025955|-74.698661|  8|186|     0.6|      2|       1|    9|    1|  3| perhour|  2|  2|  []|  []|    5081| 0.5| -8.9|TSC939  |\n",
      "|2025-01-31 00:00:...|c027da|   30000|   29450|       343.8|229.1|        0|  0630|     none|      A5| 1013.6|           30016|      257.3|44.001297|-75.327695|  8|186|     0.2|      2|       1|   10|    2|  3| perhour|  2|  2|  []|  []|    6461| 0.0|-16.6|CJT990  |\n",
      "+--------------------+------+--------+--------+------------+-----+---------+------+---------+--------+-------+----------------+-----------+---------+----------+---+---+--------+-------+--------+-----+-----+---+--------+---+---+----+----+--------+----+-----+--------+\n",
      "only showing top 5 rows\n",
      "\n"
     ]
    }
   ],
   "source": [
    "# Load full telemetry and extract all payload fields in Spark\n",
    "df_spark_small = spark.read.json(small_telemetry_path)\n",
    "\n",
    "df_spark_small_flat = df_spark_small.select(\n",
    "    col(\"dt\").alias(\"timestamp\"),\n",
    "    col(\"payload.hex\").alias(\"hex\"),\n",
    "    col(\"payload.alt_baro\").alias(\"alt_baro\"),\n",
    "    col(\"payload.alt_geom\").alias(\"alt_geom\"),\n",
    "    col(\"payload.gs\").alias(\"ground_speed\"),\n",
    "    col(\"payload.track\").alias(\"track\"),\n",
    "    col(\"payload.baro_rate\").alias(\"baro_rate\"),\n",
    "    col(\"payload.squawk\").alias(\"squawk\"),\n",
    "    col(\"payload.emergency\").alias(\"emergency\"),\n",
    "    col(\"payload.category\").alias(\"category\"),\n",
    "    col(\"payload.nav_qnh\").alias(\"nav_qnh\"),\n",
    "    col(\"payload.nav_altitude_mcp\").alias(\"nav_altitude_mcp\"),\n",
    "    col(\"payload.nav_heading\").alias(\"nav_heading\"),\n",
    "    col(\"payload.lat\").alias(\"lat\"),\n",
    "    col(\"payload.lon\").alias(\"lon\"),\n",
    "    col(\"payload.nic\").alias(\"nic\"),\n",
    "    col(\"payload.rc\").alias(\"rc\"),\n",
    "    col(\"payload.seen_pos\").alias(\"seen_pos\"),\n",
    "    col(\"payload.version\").alias(\"version\"),\n",
    "    col(\"payload.nic_baro\").alias(\"nic_baro\"),\n",
    "    col(\"payload.nac_p\").alias(\"nac_p\"),\n",
    "    col(\"payload.nac_v\").alias(\"nac_v\"),\n",
    "    col(\"payload.sil\").alias(\"sil\"),\n",
    "    col(\"payload.sil_type\").alias(\"sil_type\"),\n",
    "    col(\"payload.gva\").alias(\"gva\"),\n",
    "    col(\"payload.sda\").alias(\"sda\"),\n",
    "    col(\"payload.mlat\").alias(\"mlat\"),\n",
    "    col(\"payload.tisb\").alias(\"tisb\"),\n",
    "    col(\"payload.messages\").alias(\"messages\"),\n",
    "    col(\"payload.seen\").alias(\"seen\"),\n",
    "    col(\"payload.rssi\").alias(\"rssi\"),\n",
    "    col(\"payload.flight\").alias(\"flight\")\n",
    ")\n",
    "\n",
    "df_spark_small_flat.show(5)\n"
   ]
  },
  {
   "cell_type": "code",
   "execution_count": 7,
   "id": "acbda707",
   "metadata": {},
   "outputs": [
    {
     "data": {
      "text/plain": [
       "1829647"
      ]
     },
     "execution_count": 7,
     "metadata": {},
     "output_type": "execute_result"
    }
   ],
   "source": [
    "df_spark_small_flat.count()\n"
   ]
  },
  {
   "cell_type": "code",
   "execution_count": 8,
   "id": "0df8dbb7",
   "metadata": {},
   "outputs": [
    {
     "name": "stdout",
     "output_type": "stream",
     "text": [
      "+------+--------+------------+-----+---------+----------+\n",
      "|hex   |alt_baro|ground_speed|track|lat      |lon       |\n",
      "+------+--------+------------+-----+---------+----------+\n",
      "|ab35d3|37000   |552.7       |41.3 |44.218048|-75.741316|\n",
      "|c03f37|23925   |352.3       |22.7 |44.900757|-75.38511 |\n",
      "|c06a75|24725   |482.7       |47.5 |44.762677|-75.105152|\n",
      "|c078ba|15175   |420.6       |48.1 |45.025955|-74.698661|\n",
      "|c027da|30000   |343.8       |229.1|44.001297|-75.327695|\n",
      "+------+--------+------------+-----+---------+----------+\n",
      "only showing top 5 rows\n",
      "\n"
     ]
    }
   ],
   "source": [
    "# Query 1 :  \n",
    "\n",
    "df_spark_small_flat.select(\"hex\", \"alt_baro\", \"ground_speed\", \"track\", \"lat\", \"lon\") \\\n",
    "                   .show(5, truncate=False)\n"
   ]
  },
  {
   "cell_type": "code",
   "execution_count": 9,
   "id": "d0fa1b5b",
   "metadata": {},
   "outputs": [
    {
     "name": "stdout",
     "output_type": "stream",
     "text": [
      "+------+--------+------------+---------+----------+\n",
      "|hex   |alt_baro|ground_speed|lat      |lon       |\n",
      "+------+--------+------------+---------+----------+\n",
      "|ab35d3|37000   |552.7       |44.218048|-75.741316|\n",
      "|ab35d3|37000   |552.7       |44.220064|-75.738875|\n",
      "|c02fe7|34750   |586.9       |NULL     |NULL      |\n",
      "|0c20a8|34475   |451.9       |43.909653|-74.10157 |\n",
      "|ab35d3|37000   |552.7       |44.222076|-75.736411|\n",
      "+------+--------+------------+---------+----------+\n",
      "only showing top 5 rows\n",
      "\n"
     ]
    }
   ],
   "source": [
    "# Query 2 : Filter rows where altitude > 30000\n",
    "df_spark_small_flat.filter(col(\"alt_baro\") > 30000) \\\n",
    "                   .select(\"hex\", \"alt_baro\", \"ground_speed\", \"lat\", \"lon\") \\\n",
    "                   .show(5, truncate=False)\n"
   ]
  },
  {
   "cell_type": "code",
   "execution_count": 10,
   "id": "2c567737",
   "metadata": {},
   "outputs": [
    {
     "name": "stdout",
     "output_type": "stream",
     "text": [
      "+------+-----+\n",
      "|hex   |count|\n",
      "+------+-----+\n",
      "|c05efe|12062|\n",
      "|c0481d|11536|\n",
      "|a96805|11474|\n",
      "|c08497|11169|\n",
      "|c060b7|10633|\n",
      "+------+-----+\n",
      "only showing top 5 rows\n",
      "\n"
     ]
    }
   ],
   "source": [
    "# Query 3 : Count Number of records per aircraft\n",
    "df_spark_small_flat.groupBy(\"hex\") \\\n",
    "                   .count() \\\n",
    "                   .orderBy(desc(\"count\")) \\\n",
    "                   .show(5, truncate=False)\n",
    "\n",
    "\n",
    "\n"
   ]
  },
  {
   "cell_type": "code",
   "execution_count": 11,
   "id": "43267c81",
   "metadata": {},
   "outputs": [
    {
     "name": "stdout",
     "output_type": "stream",
     "text": [
      "+------+-----------------+\n",
      "|hex   |avg_ground_speed |\n",
      "+------+-----------------+\n",
      "|3c458c|668.5544959128063|\n",
      "|c0610d|667.7281179138303|\n",
      "|406e0f|662.2459107806709|\n",
      "|89644c|656.7955223880596|\n",
      "|aac366|651.2352941176473|\n",
      "+------+-----------------+\n",
      "only showing top 5 rows\n",
      "\n"
     ]
    }
   ],
   "source": [
    "# Query 4 : Average ground speed per aircraft\n",
    "df_spark_small_flat.groupBy(\"hex\") \\\n",
    "                   .agg(avg(\"ground_speed\").alias(\"avg_ground_speed\")) \\\n",
    "                   .orderBy(desc(\"avg_ground_speed\")) \\\n",
    "                   .show(5, truncate=False)"
   ]
  },
  {
   "cell_type": "code",
   "execution_count": 12,
   "id": "8e733531",
   "metadata": {},
   "outputs": [
    {
     "name": "stdout",
     "output_type": "stream",
     "text": [
      "+------+\n",
      "|squawk|\n",
      "+------+\n",
      "|  0671|\n",
      "|  3015|\n",
      "|  3441|\n",
      "|  5316|\n",
      "|  6732|\n",
      "|  6252|\n",
      "|  4276|\n",
      "|  7013|\n",
      "|  6264|\n",
      "|  1043|\n",
      "+------+\n",
      "only showing top 10 rows\n",
      "\n"
     ]
    }
   ],
   "source": [
    "# Query 5: Distinct Squawk Codes\n",
    "df_spark_small_flat.select(\"squawk\").distinct().show(10)\n"
   ]
  },
  {
   "cell_type": "code",
   "execution_count": 13,
   "id": "019b4d4b",
   "metadata": {},
   "outputs": [
    {
     "name": "stdout",
     "output_type": "stream",
     "text": [
      "+------+------------+-----------+\n",
      "|   hex|ground_speed|speed_knots|\n",
      "+------+------------+-----------+\n",
      "|ab35d3|       552.7|     298.43|\n",
      "|c03f37|       352.3|     190.23|\n",
      "|c06a75|       482.7|     260.64|\n",
      "|c078ba|       420.6|     227.11|\n",
      "|c027da|       343.8|     185.64|\n",
      "+------+------------+-----------+\n",
      "only showing top 5 rows\n",
      "\n"
     ]
    }
   ],
   "source": [
    "# Query to add a columnn for speed in knots\n",
    "\n",
    "from pyspark.sql.functions import round\n",
    "\n",
    "df_spark_small_flat.withColumn(\"speed_knots\", round(col(\"ground_speed\") * 0.539957, 2)) \\\n",
    "    .select(\"hex\", \"ground_speed\", \"speed_knots\") \\\n",
    "    .show(5)\n"
   ]
  },
  {
   "cell_type": "code",
   "execution_count": null,
   "id": "91c918c5",
   "metadata": {},
   "outputs": [
    {
     "name": "stdout",
     "output_type": "stream",
     "text": [
      "+------+---------+----------+\n",
      "|hex   |lat      |lon       |\n",
      "+------+---------+----------+\n",
      "|ab35d3|44.218048|-75.741316|\n",
      "|c03f37|44.900757|-75.38511 |\n",
      "|c06a75|44.762677|-75.105152|\n",
      "|c078ba|45.025955|-74.698661|\n",
      "|c027da|44.001297|-75.327695|\n",
      "+------+---------+----------+\n",
      "only showing top 5 rows\n",
      "\n"
     ]
    }
   ],
   "source": [
    "# Query to fiter out rows missing GPS (Null values in lat/lon)\n",
    "# Filter out rows with missing GPS data\n",
    "\n",
    "df_spark_small_flat.filter(col(\"lat\").isNotNull() & col(\"lon\").isNotNull()) \\\n",
    "    .select(\"hex\", \"lat\", \"lon\") \\\n",
    "    .show(5, truncate=False)\n"
   ]
  },
  {
   "cell_type": "code",
   "execution_count": 23,
   "id": "bbb8106e",
   "metadata": {},
   "outputs": [
    {
     "name": "stdout",
     "output_type": "stream",
     "text": [
      "+------+--------+------------+-----+----+\n",
      "|hex   |alt_baro|manufacturer|model|reg |\n",
      "+------+--------+------------+-----+----+\n",
      "|c03f37|23925   |NULL        |NULL |NULL|\n",
      "|c06a75|24725   |NULL        |NULL |NULL|\n",
      "|c078ba|15175   |NULL        |NULL |NULL|\n",
      "|ab35d3|37000   |NULL        |NULL |NULL|\n",
      "|ab35d3|37000   |NULL        |NULL |NULL|\n",
      "+------+--------+------------+-----+----+\n",
      "only showing top 5 rows\n",
      "\n"
     ]
    }
   ],
   "source": [
    "# Create cleaned join keys (optional but recommended)\n",
    "from pyspark.sql.functions import upper, trim\n",
    "\n",
    "\n",
    "\n",
    "# Perform INNER JOIN to keep only matches\n",
    "df_matched = df_spark_small_flat.join(\n",
    "    df_aircraft,\n",
    "    df_spark_small_flat.hex == df_aircraft.icao,\n",
    "    how=\"left\"  # Use \"left\" to keep all telemetry data\n",
    ")\n",
    "\n",
    "# Show result\n",
    "df_matched.select(\"hex\", \"alt_baro\", \"manufacturer\", \"model\", \"reg\") \\\n",
    "          .show(5, truncate=False)\n"
   ]
  },
  {
   "cell_type": "code",
   "execution_count": null,
   "id": "848a63f8",
   "metadata": {},
   "outputs": [],
   "source": []
  }
 ],
 "metadata": {
  "kernelspec": {
   "display_name": "Python 3",
   "language": "python",
   "name": "python3"
  },
  "language_info": {
   "codemirror_mode": {
    "name": "ipython",
    "version": 3
   },
   "file_extension": ".py",
   "mimetype": "text/x-python",
   "name": "python",
   "nbconvert_exporter": "python",
   "pygments_lexer": "ipython3",
   "version": "3.12.1"
  }
 },
 "nbformat": 4,
 "nbformat_minor": 5
}
